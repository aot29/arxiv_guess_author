{
 "cells": [
  {
   "cell_type": "markdown",
   "id": "9b99eec0-b823-46e2-8ed6-5fa2ae8a24f3",
   "metadata": {},
   "source": [
    "# Rank authors\n",
    "For any given article in the test dataset, compute the distance between the articles and authors in the train data set. For each article, rank the authors by distance. Expect the correct article authors to be at a shorter than average distance to the articles.\n",
    "\n"
   ]
  },
  {
   "cell_type": "code",
   "execution_count": 36,
   "id": "2c740cd8-458c-45ff-93ad-cfb7f456a544",
   "metadata": {},
   "outputs": [],
   "source": [
    "import pandas as pd\n",
    "import pickle\n",
    "import os\n",
    "import matplotlib.pyplot as plt\n",
    "%matplotlib inline"
   ]
  },
  {
   "cell_type": "code",
   "execution_count": 37,
   "id": "ef437703-dad2-4b28-b139-31dfd5445af5",
   "metadata": {},
   "outputs": [],
   "source": [
    "DATA_PATH = '../data'\n",
    "MODELS_PATH = '../models'"
   ]
  },
  {
   "cell_type": "markdown",
   "id": "82a0a75b-70c4-4c41-a856-b9e883d1655d",
   "metadata": {},
   "source": [
    "## load the article metadata"
   ]
  },
  {
   "cell_type": "code",
   "execution_count": 38,
   "id": "e7162937-b41e-49b3-957d-244f4b140655",
   "metadata": {},
   "outputs": [],
   "source": [
    "def load_df(name):\n",
    "    return pd.read_csv(\n",
    "        os.path.join(DATA_PATH, name), \n",
    "        index_col=0, \n",
    "        converters={\"authors_parsed\": lambda x:[entry.replace(\"'\", '').strip(\"[]\") for entry in x.split(\"', '\")]}\n",
    "    )\n",
    "\n",
    "validate9_df = load_df('validate_topics9.csv')\n",
    "test9_df = load_df('test_topics9.csv')\n",
    "train9_df = load_df('train_topics9.csv')\n",
    "\n",
    "validate6_df = load_df('validate_topics6.csv')\n",
    "test6_df = load_df('test_topics6.csv')\n",
    "train6_df = load_df('train_topics6.csv')\n",
    "\n",
    "validate12_df = load_df('validate_topics12.csv')\n",
    "test12_df = load_df('test_topics12.csv')\n",
    "train12_df = load_df('train_topics12.csv')"
   ]
  },
  {
   "cell_type": "markdown",
   "id": "e06556bc-4b98-4d30-93fc-14f442e1c824",
   "metadata": {},
   "source": [
    "## Rank authors by distance to a given article"
   ]
  },
  {
   "cell_type": "code",
   "execution_count": 39,
   "id": "6b1c9fd0-5c61-4e1b-b956-9d7b2a32372c",
   "metadata": {},
   "outputs": [],
   "source": [
    "# load the topics by author\n",
    "authors9_validate_df = pd.read_csv(os.path.join(DATA_PATH, 'validate_topics9_authors.csv'), index_col=0)\n",
    "authors9_test_df = pd.read_csv(os.path.join(DATA_PATH, 'test_topics9_authors.csv'), index_col=0)\n",
    "authors9_train_df = pd.read_csv(os.path.join(DATA_PATH, 'train_topics9_authors.csv'), index_col=0)\n",
    "\n",
    "authors6_validate_df = pd.read_csv(os.path.join(DATA_PATH, 'validate_topics6_authors.csv'), index_col=0)\n",
    "authors6_test_df = pd.read_csv(os.path.join(DATA_PATH, 'test_topics6_authors.csv'), index_col=0)\n",
    "authors6_train_df = pd.read_csv(os.path.join(DATA_PATH, 'train_topics6_authors.csv'), index_col=0)\n",
    "\n",
    "authors12_validate_df = pd.read_csv(os.path.join(DATA_PATH, 'validate_topics12_authors.csv'), index_col=0)\n",
    "authors12_test_df = pd.read_csv(os.path.join(DATA_PATH, 'test_topics12_authors.csv'), index_col=0)\n",
    "authors12_train_df = pd.read_csv(os.path.join(DATA_PATH, 'train_topics12_authors.csv'), index_col=0)"
   ]
  },
  {
   "cell_type": "code",
   "execution_count": 40,
   "id": "b6fc300a-c253-44ed-a1be-d219a2b6ead4",
   "metadata": {},
   "outputs": [],
   "source": [
    "import numpy as np\n",
    "\n",
    "def topic_distance(topics1, topics2):\n",
    "    \"\"\"\n",
    "    topic1, topic2: numpy.ndarray, representing the probability that an article is about a topic. An article can have multiple topics.\n",
    "    Example:\n",
    "        0    0.000000\n",
    "        1    0.000000\n",
    "        2    0.000000\n",
    "        3    0.000000\n",
    "        4    0.000000\n",
    "        5    0.992668\n",
    "    topic1 and topic2 must be the same length.\n",
    "    Topics were assigned to articles in 03_assign_topics\n",
    "    \"\"\"\n",
    "    dist = np.linalg.norm(topics1 - topics2)  # euclidean distance, L2 norm is default\n",
    "    return dist"
   ]
  },
  {
   "cell_type": "code",
   "execution_count": 44,
   "id": "34d35be4-c9bf-4712-a51c-d0883799ebca",
   "metadata": {},
   "outputs": [],
   "source": [
    "mask9 = validate9_df.columns.str.contains(\"topic9_.\")\n",
    "mask6 = validate6_df.columns.str.contains(\"topic6_.\")\n",
    "mask12 = validate12_df.columns.str.contains(\"topic12_.\")"
   ]
  },
  {
   "cell_type": "code",
   "execution_count": 47,
   "id": "c9f79404-41e5-49db-820c-6f43ff44b174",
   "metadata": {},
   "outputs": [],
   "source": [
    "def distances(article, authors_df, mask):\n",
    "    \"\"\"\n",
    "    Get the distance between article and all authors, in the topic space \n",
    "    \n",
    "    article: pandas.DataFrame data for a single article\n",
    "    authors_df: pandas.DataFrame data for all authors\n",
    "    mask: numpy.array of boolean: which columns to use (e.g. topic9_01, ...)\n",
    "    return: pandas.DataFrame in the form distance, author\n",
    "    \"\"\"\n",
    "    # numpy array with topics probabilities for the article\n",
    "    topics1 = np.array(article.loc[:, mask])\n",
    "    # compute distances between article topics and topics of all authors\n",
    "    topics_authors_np = authors_df[authors_df.columns.drop('author')].to_numpy() \n",
    "    distances = [topic_distance(topics1, topics2) for topics2 in topics_authors_np]\n",
    "    distances_df = pd.DataFrame({'author': authors_df['author'], 'distance': distances})\n",
    "    distances_df.sort_values(by='distance', ascending=True, inplace=True)\n",
    "    return distances_df\n",
    "\n",
    "\n",
    "def rank_author(article, authors_df, mask):\n",
    "    \"\"\"\n",
    "    Get the lowest rank of any of the authors of article within authors_df.\n",
    "    \n",
    "    article: pandas.DataFrame data for a single article\n",
    "    authors_df: pandas.DataFrame data for all authors\n",
    "    return: int rank of closest author\n",
    "    \"\"\"\n",
    "    rank = 0\n",
    "    found = False\n",
    "    distances_df = distances(article, authors_df, mask)\n",
    "    for dataset_author in distances_df.author:\n",
    "        for article_author in rnd_article.authors_parsed.iloc[0]:\n",
    "            if article_author == dataset_author:\n",
    "                found = True\n",
    "                break\n",
    "        if found: break\n",
    "        rank += 1\n",
    "    # check of found\n",
    "    if not found:\n",
    "        return None, None\n",
    "    else:\n",
    "        return article_author, rank"
   ]
  },
  {
   "cell_type": "markdown",
   "id": "5ec07eab-f60c-4b4e-a8e9-bb3c755f4784",
   "metadata": {},
   "source": [
    "### Example 1\n",
    "Pick a random article from the validate data set, find the rank of the nearest author in validate dataset.\n",
    "Expect the rank to be low in the majority of cases. "
   ]
  },
  {
   "cell_type": "code",
   "execution_count": 48,
   "id": "d08d6565-9d65-46df-b178-1cd1ea094edb",
   "metadata": {},
   "outputs": [
    {
     "name": "stdout",
     "output_type": "stream",
     "text": [
      "The original article \"RXJ0437+00: Constraining Dark Matter with Exotic Gravitational Lenses\" authors are: ['Lagattuta, David J., ', 'Richard, Johan, ', 'Ebeling, Harald, ', 'Basto, Quentin, ', 'Cerny, Catherine, ', 'Edge, Alastair, ', 'Jauzac, Mathilde, ', 'Mahler, Guillaume, ', 'Massey, Richard, ']\n",
      "The closest author is: 'Ebeling, Harald, ', with distance rank 0.\n"
     ]
    }
   ],
   "source": [
    "# pick a random paper\n",
    "rnd_article = validate9_df.sample()\n",
    "closest_author, rank = rank_author(rnd_article, authors9_validate_df, mask9)\n",
    "\n",
    "# check\n",
    "print(f\"The original article \\\"{rnd_article.title.iloc[0]}\\\" authors are: {rnd_article.authors_parsed.iloc[0]}\")\n",
    "print(f\"The closest author is: '{closest_author}', with distance rank {rank}.\")"
   ]
  },
  {
   "cell_type": "markdown",
   "id": "d2ea4fa8-de9a-4cb5-bd0e-bfb3eb993182",
   "metadata": {},
   "source": [
    "### Example 2\n",
    "Pick a random article from the validate data set, by an author who is also in the train dataset. Find the nearest author in train dataset."
   ]
  },
  {
   "cell_type": "code",
   "execution_count": 53,
   "id": "ff03c42d-e426-4ad9-8673-e941ff1989b4",
   "metadata": {},
   "outputs": [
    {
     "name": "stdout",
     "output_type": "stream",
     "text": [
      "The validate dataset has 101576 authors, the train dataset has 157213, and 50935 authors are in both datasets.\n"
     ]
    }
   ],
   "source": [
    "# Percentage of authors in validate dataset, that are also present in train dataset\n",
    "authors_validate_set = set(authors9_validate_df.author)\n",
    "authors_train_set = set(authors9_train_df.author)\n",
    "authors_intersection = authors_validate_set.intersection(authors_train_set)\n",
    "print(f\"The validate dataset has {len(authors_validate_set)} authors, the train dataset has {len(authors_train_set)}, and {len(authors_intersection)} authors are in both datasets.\")"
   ]
  },
  {
   "cell_type": "code",
   "execution_count": 55,
   "id": "3a6a38b3-a206-4e26-982a-e4b034310d4a",
   "metadata": {},
   "outputs": [
    {
     "name": "stdout",
     "output_type": "stream",
     "text": [
      "19005 out of 22632 articles in the validate dataset were written by authors present in the validate and the train datasets\n",
      "i.e. 83.97 %\n"
     ]
    }
   ],
   "source": [
    "# get articles in validate dataset, written by authors who are in both datasets\n",
    "intersection_ids = []\n",
    "for i, row in validate_df.iterrows():\n",
    "    for author in row.authors_parsed:\n",
    "        # if at least one author is in both datasets, keep the article id\n",
    "        if author in authors_intersection:\n",
    "            intersection_ids.append(row.id)\n",
    "            break\n",
    "\n",
    "idx = [article_id in intersection_ids for article_id in validate_df.id]\n",
    "intersection9_articles_df = validate9_df[idx]\n",
    "\n",
    "print(f\"{intersection_articles_df.shape[0]} out of {validate_df.shape[0]} articles in the validate dataset were written by authors present in the validate and the train datasets\")\n",
    "print(f\"i.e. {intersection_articles_df.shape[0]/validate_df.shape[0]*100:.2f} %\")"
   ]
  },
  {
   "cell_type": "code",
   "execution_count": 56,
   "id": "8384202e-6fc6-4d88-b96f-8c9cbf2080fa",
   "metadata": {},
   "outputs": [
    {
     "name": "stdout",
     "output_type": "stream",
     "text": [
      "The original article \"Aspects of Categorical Symmetries from Branes: SymTFTs and Generalized\n",
      "  Charges\" authors are: ['Apruzzi, Fabio, ', 'Bonetti, Federico, ', 'Gould, Dewi S. W., ', 'Schafer-Nameki, Sakura, ']\n",
      "The closest author is: 'Apruzzi, Fabio, ', with distance rank 340.\n"
     ]
    }
   ],
   "source": [
    "# pick a random paper\n",
    "rnd_article = intersection_articles_df.sample()\n",
    "closest_author, rank = rank_author(rnd_article, authors9_train_df, mask9)\n",
    "\n",
    "# check\n",
    "print(f\"The original article \\\"{rnd_article.title.iloc[0]}\\\" authors are: {rnd_article.authors_parsed.iloc[0]}\")\n",
    "print(f\"The closest author is: '{closest_author}', with distance rank {rank}.\")"
   ]
  },
  {
   "cell_type": "markdown",
   "id": "b032b394-d1f6-4e8f-b382-b3619d237376",
   "metadata": {},
   "source": [
    "### Test\n",
    "Pick 10000 random articles in the test dataset. Find the rank of the closest author for each article. Check that they are closer than a random author."
   ]
  },
  {
   "cell_type": "code",
   "execution_count": 67,
   "id": "c8511bbe-808e-4256-8f67-81848a562c1d",
   "metadata": {},
   "outputs": [
    {
     "name": "stdout",
     "output_type": "stream",
     "text": [
      "CPU times: user 33min 13s, sys: 2.63 s, total: 33min 15s\n",
      "Wall time: 33min 16s\n"
     ]
    }
   ],
   "source": [
    "%%time\n",
    "\n",
    "MAX_ARTICLES = 1000\n",
    "ranks9 = []\n",
    "ranks6 = []\n",
    "ranks12 = []\n",
    "for _ in range(MAX_ARTICLES):\n",
    "    # pick a random paper in the test dataset, get the rank of the closest author in the train dataset\n",
    "    rnd_article = test9_df.sample()\n",
    "    _, rank = rank_author(rnd_article, authors9_train_df, mask9)\n",
    "    ranks9.append(rank)\n",
    "\n",
    "    # pick a random paper in the test dataset, get the rank of the closest author in the train dataset\n",
    "    rnd_article = test6_df.sample()\n",
    "    _, rank = rank_author(rnd_article, authors6_train_df, mask6)\n",
    "    ranks6.append(rank)\n",
    "\n",
    "    # pick a random paper in the test dataset, get the rank of the closest author in the train dataset\n",
    "    rnd_article = test12_df.sample()\n",
    "    _, rank = rank_author(rnd_article, authors12_train_df, mask12)\n",
    "    ranks12.append(rank)"
   ]
  },
  {
   "cell_type": "code",
   "execution_count": 68,
   "id": "8a56adf5-4839-47a2-aff0-5063324f7ba4",
   "metadata": {},
   "outputs": [
    {
     "name": "stdout",
     "output_type": "stream",
     "text": [
      "Found 839 authors out of 1000\n",
      "Found 829 authors out of 1000\n",
      "Found 854 authors out of 1000\n"
     ]
    }
   ],
   "source": [
    "print(f\"Found {len([x for x in ranks9 if x is not None])} authors out of {MAX_ARTICLES}\")\n",
    "ranks9 = [x for x in ranks9 if x is not None]\n",
    "\n",
    "print(f\"Found {len([x for x in ranks6 if x is not None])} authors out of {MAX_ARTICLES}\")\n",
    "ranks6 = [x for x in ranks6 if x is not None]\n",
    "\n",
    "print(f\"Found {len([x for x in ranks12 if x is not None])} authors out of {MAX_ARTICLES}\")\n",
    "ranks12 = [x for x in ranks12 if x is not None]"
   ]
  },
  {
   "cell_type": "code",
   "execution_count": 69,
   "id": "9ca69153-e282-4b12-9f1d-c6443e484ec3",
   "metadata": {},
   "outputs": [
    {
     "data": {
      "image/png": "[encoded data removed]",
      "text/plain": [
       "<Figure size 640x480 with 1 Axes>"
      ]
     },
     "metadata": {},
     "output_type": "display_data"
    }
   ],
   "source": [
    "data = [ranks6, ranks9, ranks12]\n",
    "fig, ax = plt.subplots()\n",
    "ax.boxplot(data, tick_labels=['6-topics', '9-topics', '12-topics'])\n",
    "ax.set_ylabel(\"Rank\")\n",
    "plt.title(f\"Rank of the closest author in train data set\")\n",
    "plt.show()"
   ]
  },
  {
   "cell_type": "code",
   "execution_count": 70,
   "id": "5dd22a60-7339-4342-8879-2ed90acb685a",
   "metadata": {},
   "outputs": [
    {
     "data": {
      "text/plain": [
       "count       829.000000\n",
       "mean      11673.173703\n",
       "std       20128.458373\n",
       "min           0.000000\n",
       "25%        1024.000000\n",
       "50%        4180.000000\n",
       "75%       12877.000000\n",
       "max      153054.000000\n",
       "dtype: float64"
      ]
     },
     "execution_count": 70,
     "metadata": {},
     "output_type": "execute_result"
    }
   ],
   "source": [
    "pd.Series(ranks6).describe()"
   ]
  },
  {
   "cell_type": "code",
   "execution_count": 71,
   "id": "73da797c-e32d-4659-ad39-961da53338d3",
   "metadata": {},
   "outputs": [
    {
     "data": {
      "text/plain": [
       "count       839.000000\n",
       "mean       8423.169249\n",
       "std       15927.156088\n",
       "min           1.000000\n",
       "25%         766.500000\n",
       "50%        2702.000000\n",
       "75%        8544.500000\n",
       "max      138220.000000\n",
       "dtype: float64"
      ]
     },
     "execution_count": 71,
     "metadata": {},
     "output_type": "execute_result"
    }
   ],
   "source": [
    "pd.Series(ranks9).describe()"
   ]
  },
  {
   "cell_type": "code",
   "execution_count": 72,
   "id": "738dabe0-a361-4e46-b454-cc02bc847440",
   "metadata": {},
   "outputs": [
    {
     "data": {
      "text/plain": [
       "count       854.00000\n",
       "mean       9298.41452\n",
       "std       19172.29195\n",
       "min           0.00000\n",
       "25%         543.25000\n",
       "50%        2708.00000\n",
       "75%        8678.25000\n",
       "max      154353.00000\n",
       "dtype: float64"
      ]
     },
     "execution_count": 72,
     "metadata": {},
     "output_type": "execute_result"
    }
   ],
   "source": [
    "pd.Series(ranks12).describe()"
   ]
  },
  {
   "cell_type": "code",
   "execution_count": null,
   "id": "e9d6936b-5a29-4eea-8f1a-3fe883fcf228",
   "metadata": {},
   "outputs": [],
   "source": []
  }
 ],
 "metadata": {
  "kernelspec": {
   "display_name": "Python 3 (ipykernel)",
   "language": "python",
   "name": "python3"
  },
  "language_info": {
   "codemirror_mode": {
    "name": "ipython",
    "version": 3
   },
   "file_extension": ".py",
   "mimetype": "text/x-python",
   "name": "python",
   "nbconvert_exporter": "python",
   "pygments_lexer": "ipython3",
   "version": "3.11.2"
  }
 },
 "nbformat": 4,
 "nbformat_minor": 5
}
