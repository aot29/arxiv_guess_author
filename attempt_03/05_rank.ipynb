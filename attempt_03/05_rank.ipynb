{
 "cells": [
  {
   "cell_type": "markdown",
   "id": "9b99eec0-b823-46e2-8ed6-5fa2ae8a24f3",
   "metadata": {},
   "source": [
    "# Rank authors\n",
    "For any given article in the test dataset, compute the distance between the articles and authors in the train data set. For each article, rank the authors by distance. Expect the correct article authors to be at a shorter than average distance to the articles.\n",
    "\n"
   ]
  },
  {
   "cell_type": "code",
   "execution_count": 1,
   "id": "2c740cd8-458c-45ff-93ad-cfb7f456a544",
   "metadata": {},
   "outputs": [],
   "source": [
    "import pandas as pd\n",
    "import pickle\n",
    "import os"
   ]
  },
  {
   "cell_type": "code",
   "execution_count": 2,
   "id": "ef437703-dad2-4b28-b139-31dfd5445af5",
   "metadata": {},
   "outputs": [],
   "source": [
    "DATA_PATH = '../data'\n",
    "MODELS_PATH = '../models'"
   ]
  },
  {
   "cell_type": "markdown",
   "id": "82a0a75b-70c4-4c41-a856-b9e883d1655d",
   "metadata": {},
   "source": [
    "## load the article metadata"
   ]
  },
  {
   "cell_type": "code",
   "execution_count": 3,
   "id": "e7162937-b41e-49b3-957d-244f4b140655",
   "metadata": {},
   "outputs": [],
   "source": [
    "def load_df(name):\n",
    "    return pd.read_csv(\n",
    "        os.path.join(DATA_PATH, name), \n",
    "        index_col=0, \n",
    "        converters={\"authors_parsed\": lambda x:[entry.replace(\"'\", '').strip(\"[]\") for entry in x.split(\"', '\")]}\n",
    "    )\n",
    "\n",
    "validate_df = load_df('validate_topics9.csv')\n",
    "test_df = load_df('test_topics9.csv')\n",
    "train_df = load_df('train_topics9.csv')"
   ]
  },
  {
   "cell_type": "markdown",
   "id": "e06556bc-4b98-4d30-93fc-14f442e1c824",
   "metadata": {},
   "source": [
    "## Rank authors by distance to a given article"
   ]
  },
  {
   "cell_type": "code",
   "execution_count": 4,
   "id": "6b1c9fd0-5c61-4e1b-b956-9d7b2a32372c",
   "metadata": {},
   "outputs": [],
   "source": [
    "# load the topics by author\n",
    "authors_validate_df = pd.read_csv(os.path.join(DATA_PATH, 'validate_topics9_authors.csv'), index_col=0)\n",
    "authors_test_df = pd.read_csv(os.path.join(DATA_PATH, 'test_topics9_authors.csv'), index_col=0)\n",
    "authors_train_df = pd.read_csv(os.path.join(DATA_PATH, 'train_topics9_authors.csv'), index_col=0)"
   ]
  },
  {
   "cell_type": "code",
   "execution_count": 5,
   "id": "b6fc300a-c253-44ed-a1be-d219a2b6ead4",
   "metadata": {},
   "outputs": [],
   "source": [
    "import numpy as np\n",
    "\n",
    "def topic_distance(topics1, topics2):\n",
    "    \"\"\"\n",
    "    topic1, topic2: numpy.ndarray, representing the probability that an article is about a topic. An article can have multiple topics.\n",
    "    Example:\n",
    "        0    0.000000\n",
    "        1    0.000000\n",
    "        2    0.000000\n",
    "        3    0.000000\n",
    "        4    0.000000\n",
    "        5    0.992668\n",
    "    topic1 and topic2 must be the same length.\n",
    "    Topics were assigned to articles in 03_assign_topics\n",
    "    \"\"\"\n",
    "    dist = np.linalg.norm(topics1 - topics2)  # euclidean distance, L2 norm is default\n",
    "    return dist"
   ]
  },
  {
   "cell_type": "code",
   "execution_count": 16,
   "id": "34d35be4-c9bf-4712-a51c-d0883799ebca",
   "metadata": {},
   "outputs": [
    {
     "data": {
      "text/html": [
       "<div>\n",
       "<style scoped>\n",
       "    .dataframe tbody tr th:only-of-type {\n",
       "        vertical-align: middle;\n",
       "    }\n",
       "\n",
       "    .dataframe tbody tr th {\n",
       "        vertical-align: top;\n",
       "    }\n",
       "\n",
       "    .dataframe thead th {\n",
       "        text-align: right;\n",
       "    }\n",
       "</style>\n",
       "<table border=\"1\" class=\"dataframe\">\n",
       "  <thead>\n",
       "    <tr style=\"text-align: right;\">\n",
       "      <th></th>\n",
       "      <th>topic9_0</th>\n",
       "      <th>topic9_1</th>\n",
       "      <th>topic9_2</th>\n",
       "      <th>topic9_3</th>\n",
       "      <th>topic9_4</th>\n",
       "      <th>topic9_5</th>\n",
       "      <th>topic9_6</th>\n",
       "      <th>topic9_7</th>\n",
       "      <th>topic9_8</th>\n",
       "    </tr>\n",
       "  </thead>\n",
       "  <tbody>\n",
       "    <tr>\n",
       "      <th>0</th>\n",
       "      <td>0.000000</td>\n",
       "      <td>0.052155</td>\n",
       "      <td>0.000000</td>\n",
       "      <td>0.0</td>\n",
       "      <td>0.0</td>\n",
       "      <td>0.000000</td>\n",
       "      <td>0.000000</td>\n",
       "      <td>0.074512</td>\n",
       "      <td>0.867151</td>\n",
       "    </tr>\n",
       "    <tr>\n",
       "      <th>1</th>\n",
       "      <td>0.179859</td>\n",
       "      <td>0.000000</td>\n",
       "      <td>0.492827</td>\n",
       "      <td>0.0</td>\n",
       "      <td>0.0</td>\n",
       "      <td>0.100088</td>\n",
       "      <td>0.207556</td>\n",
       "      <td>0.015416</td>\n",
       "      <td>0.000000</td>\n",
       "    </tr>\n",
       "    <tr>\n",
       "      <th>2</th>\n",
       "      <td>0.000000</td>\n",
       "      <td>0.000000</td>\n",
       "      <td>0.000000</td>\n",
       "      <td>0.0</td>\n",
       "      <td>0.0</td>\n",
       "      <td>0.000000</td>\n",
       "      <td>0.181438</td>\n",
       "      <td>0.025778</td>\n",
       "      <td>0.784730</td>\n",
       "    </tr>\n",
       "    <tr>\n",
       "      <th>3</th>\n",
       "      <td>0.000000</td>\n",
       "      <td>0.620412</td>\n",
       "      <td>0.000000</td>\n",
       "      <td>0.0</td>\n",
       "      <td>0.0</td>\n",
       "      <td>0.053725</td>\n",
       "      <td>0.087969</td>\n",
       "      <td>0.000000</td>\n",
       "      <td>0.229827</td>\n",
       "    </tr>\n",
       "    <tr>\n",
       "      <th>4</th>\n",
       "      <td>0.000000</td>\n",
       "      <td>0.000000</td>\n",
       "      <td>0.000000</td>\n",
       "      <td>0.0</td>\n",
       "      <td>0.0</td>\n",
       "      <td>0.068422</td>\n",
       "      <td>0.000000</td>\n",
       "      <td>0.926342</td>\n",
       "      <td>0.000000</td>\n",
       "    </tr>\n",
       "  </tbody>\n",
       "</table>\n",
       "</div>"
      ],
      "text/plain": [
       "   topic9_0  topic9_1  topic9_2  topic9_3  topic9_4  topic9_5  topic9_6  \\\n",
       "0  0.000000  0.052155  0.000000       0.0       0.0  0.000000  0.000000   \n",
       "1  0.179859  0.000000  0.492827       0.0       0.0  0.100088  0.207556   \n",
       "2  0.000000  0.000000  0.000000       0.0       0.0  0.000000  0.181438   \n",
       "3  0.000000  0.620412  0.000000       0.0       0.0  0.053725  0.087969   \n",
       "4  0.000000  0.000000  0.000000       0.0       0.0  0.068422  0.000000   \n",
       "\n",
       "   topic9_7  topic9_8  \n",
       "0  0.074512  0.867151  \n",
       "1  0.015416  0.000000  \n",
       "2  0.025778  0.784730  \n",
       "3  0.000000  0.229827  \n",
       "4  0.926342  0.000000  "
      ]
     },
     "execution_count": 16,
     "metadata": {},
     "output_type": "execute_result"
    }
   ],
   "source": [
    "mask = validate_df.columns.str.contains(\"topic9_.\")\n",
    "validate_df.loc[:, mask].head()"
   ]
  },
  {
   "cell_type": "code",
   "execution_count": 129,
   "id": "c9f79404-41e5-49db-820c-6f43ff44b174",
   "metadata": {},
   "outputs": [],
   "source": [
    "def distances(article, authors_df):\n",
    "    \"\"\"\n",
    "    Get the distance between article and all authors, in the topic space \n",
    "    \n",
    "    article: pandas.DataFrame data for a single article\n",
    "    authors_df: pandas.DataFrame data for all authors\n",
    "    return: pandas.DataFrame in the form distance, author\n",
    "    \"\"\"\n",
    "    # numpy array with topics probabilities for the article\n",
    "    mask = article.columns.str.contains(\"topic9_.\")\n",
    "    topics1 = np.array(article.loc[:, mask])\n",
    "    # compute distances between article topics and topics of all authors\n",
    "    topics_authors_np = authors_df[authors_df.columns.drop('author')].to_numpy() \n",
    "    distances = [topic_distance(topics1, topics2) for topics2 in topics_authors_np]\n",
    "    distances_df = pd.DataFrame({'author': authors_df['author'], 'distance': distances})\n",
    "    distances_df.sort_values(by='distance', ascending=True, inplace=True)\n",
    "    return distances_df\n",
    "\n",
    "\n",
    "def rank_author(article, authors_df):\n",
    "    \"\"\"\n",
    "    Get the lowest rank of any of the authors of article within authors_df.\n",
    "    \n",
    "    article: pandas.DataFrame data for a single article\n",
    "    authors_df: pandas.DataFrame data for all authors\n",
    "    return: int rank of closest author or None if not found\n",
    "    \"\"\"\n",
    "    rank = 0\n",
    "    found = False\n",
    "    distances_df = distances(article, authors_df)\n",
    "    for dataset_author in distances_df.author:\n",
    "        for article_author in rnd_article.authors_parsed.iloc[0]:\n",
    "            if article_author == dataset_author:\n",
    "                found = True\n",
    "                break\n",
    "        if found: break\n",
    "        rank += 1\n",
    "    return article_author, rank"
   ]
  },
  {
   "cell_type": "markdown",
   "id": "5ec07eab-f60c-4b4e-a8e9-bb3c755f4784",
   "metadata": {},
   "source": [
    "### Example 1\n",
    "Pick a random article from the validate data set, find the rank of the nearest author in validate dataset.\n",
    "Expect the rank to be low in the majority of cases. "
   ]
  },
  {
   "cell_type": "code",
   "execution_count": 131,
   "id": "d08d6565-9d65-46df-b178-1cd1ea094edb",
   "metadata": {},
   "outputs": [
    {
     "name": "stdout",
     "output_type": "stream",
     "text": [
      "The original article \"Bound states in the continuum in subwavelength emitter arrays\" authors are: ['Huidobro, Paloma A., ', 'de Paz, Maria Blanco, ']\n",
      "The closest author is: 'de Paz, Maria Blanco, ', with distance rank 0.\n"
     ]
    }
   ],
   "source": [
    "# pick a random paper\n",
    "rnd_article = validate_df.sample()\n",
    "closest_author, rank = rank_author(rnd_article, authors_validate_df)\n",
    "\n",
    "# check\n",
    "print(f\"The original article \\\"{rnd_article.title.iloc[0]}\\\" authors are: {rnd_article.authors_parsed.iloc[0]}\")\n",
    "print(f\"The closest author is: '{closest_author}', with distance rank {rank}.\")"
   ]
  },
  {
   "cell_type": "markdown",
   "id": "d2ea4fa8-de9a-4cb5-bd0e-bfb3eb993182",
   "metadata": {},
   "source": [
    "### Example 2\n",
    "Pick a random article from the validate data set, by an author who is also in the train dataset. Find the nearest author in train dataset."
   ]
  },
  {
   "cell_type": "code",
   "execution_count": 142,
   "id": "ff03c42d-e426-4ad9-8673-e941ff1989b4",
   "metadata": {},
   "outputs": [
    {
     "name": "stdout",
     "output_type": "stream",
     "text": [
      "The validate dataset has 101576 authors, the train dataset has 157213, and 50935 authors are in both datasets.\n"
     ]
    }
   ],
   "source": [
    "# Percentage of authors in validate dataset, that are also present in train dataset\n",
    "authors_validate_set = set(authors_validate_df.author)\n",
    "authors_train_set = set(authors_train_df.author)\n",
    "authors_intersection = authors_validate_set.intersection(authors_train_set)\n",
    "print(f\"The validate dataset has {len(authors_validate_set)} authors, the train dataset has {len(authors_train_set)}, and {len(authors_intersection)} authors are in both datasets.\")"
   ]
  },
  {
   "cell_type": "code",
   "execution_count": 133,
   "id": "3a6a38b3-a206-4e26-982a-e4b034310d4a",
   "metadata": {},
   "outputs": [
    {
     "name": "stdout",
     "output_type": "stream",
     "text": [
      "19005 out of 22632 articles in the validate dataset were written by authors present in the validate and the train datasets\n",
      "i.e. 83.97 %\n"
     ]
    }
   ],
   "source": [
    "# get articles in validate dataset, written by authors who are in both datasets\n",
    "intersection_ids = []\n",
    "for i, row in validate_df.iterrows():\n",
    "    for author in row.authors_parsed:\n",
    "        # if at least one author is in both datasets, keep the article id\n",
    "        if author in authors_intersection:\n",
    "            intersection_ids.append(row.id)\n",
    "            break\n",
    "\n",
    "idx = [article_id in intersection_ids for article_id in validate_df.id]\n",
    "intersection_articles_df = validate_df[idx]\n",
    "\n",
    "print(f\"{intersection_articles_df.shape[0]} out of {validate_df.shape[0]} articles in the validate dataset were written by authors present in the validate and the train datasets\")\n",
    "print(f\"i.e. {intersection_articles_df.shape[0]/validate_df.shape[0]*100:.2f} %\")"
   ]
  },
  {
   "cell_type": "code",
   "execution_count": 145,
   "id": "8384202e-6fc6-4d88-b96f-8c9cbf2080fa",
   "metadata": {},
   "outputs": [
    {
     "name": "stdout",
     "output_type": "stream",
     "text": [
      "The original article \"Pseudo-scalar meson spectral properties in the chiral crossover region\n",
      "  of QCD\" authors are: ['Bala, Dibyendu, ', 'Kaczmarek, Olaf, ', 'Lowdon, Peter, ', 'Philipsen, Owe, ', 'Ueding, Tristan, ']\n",
      "The closest author is: 'Kaczmarek, Olaf, ', with distance rank 505.\n"
     ]
    }
   ],
   "source": [
    "# pick a random paper\n",
    "rnd_article = intersection_articles_df.sample()\n",
    "closest_author, rank = rank_author(rnd_article, authors_train_df)\n",
    "\n",
    "# check\n",
    "print(f\"The original article \\\"{rnd_article.title.iloc[0]}\\\" authors are: {rnd_article.authors_parsed.iloc[0]}\")\n",
    "print(f\"The closest author is: '{closest_author}', with distance rank {rank}.\")"
   ]
  },
  {
   "cell_type": "code",
   "execution_count": null,
   "id": "381dee26-d76f-48f9-8918-94b95e0b71f8",
   "metadata": {},
   "outputs": [],
   "source": []
  }
 ],
 "metadata": {
  "kernelspec": {
   "display_name": "Python 3 (ipykernel)",
   "language": "python",
   "name": "python3"
  },
  "language_info": {
   "codemirror_mode": {
    "name": "ipython",
    "version": 3
   },
   "file_extension": ".py",
   "mimetype": "text/x-python",
   "name": "python",
   "nbconvert_exporter": "python",
   "pygments_lexer": "ipython3",
   "version": "3.11.2"
  }
 },
 "nbformat": 4,
 "nbformat_minor": 5
}
