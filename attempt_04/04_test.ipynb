{
 "cells": [
  {
   "cell_type": "markdown",
   "id": "1f32ad54-ff68-453b-8203-4043af52ef39",
   "metadata": {},
   "source": [
    "# Test"
   ]
  },
  {
   "cell_type": "code",
   "execution_count": 73,
   "id": "11e78344-19ad-4f70-a183-d0e33d5ca7c0",
   "metadata": {},
   "outputs": [],
   "source": [
    "import pandas as pd\n",
    "import pickle\n",
    "import os\n",
    "import numpy as np\n",
    "import matplotlib.pyplot as plt\n",
    "%matplotlib inline"
   ]
  },
  {
   "cell_type": "code",
   "execution_count": 74,
   "id": "574dea78-a1a9-46d1-ab30-c20ec98a8854",
   "metadata": {},
   "outputs": [],
   "source": [
    "DATA_PATH = '../data'\n",
    "MODELS_PATH = '../models'"
   ]
  },
  {
   "cell_type": "markdown",
   "id": "09a8b626-0cef-4dbf-9453-9cb28443ba57",
   "metadata": {},
   "source": [
    "Load the article metadata"
   ]
  },
  {
   "cell_type": "code",
   "execution_count": 75,
   "id": "7ca037fc-7900-4d64-b19d-6051de22b159",
   "metadata": {},
   "outputs": [],
   "source": [
    "def load_df(name):\n",
    "    # make sure the authors_parsed column contains arrays of str, 1 str per author name\n",
    "    # e.g. ['Bognár, Zs., ', 'Sódor, Á., ', 'Clark, I. R., ', 'Kawaler, S. D., ']\n",
    "    return pd.read_csv(\n",
    "        os.path.join(DATA_PATH, name), \n",
    "        index_col=0, \n",
    "        converters={\"authors_parsed\": lambda x:[entry.replace('\\'', '').strip(\"[]\") for entry in x.split(\"', '\")]}\n",
    "    )\n",
    "\n",
    "train_df = load_df('arxiv_train.csv')\n",
    "validate_df = load_df('arxiv_validate.csv')\n",
    "test_df = load_df('arxiv_test.csv')"
   ]
  },
  {
   "cell_type": "markdown",
   "id": "de66d8ec-5c8e-43b4-b5fd-168bc57a8518",
   "metadata": {},
   "source": [
    "Load the article topics"
   ]
  },
  {
   "cell_type": "code",
   "execution_count": 76,
   "id": "e1d7a187-35c8-46d3-aaed-edcfed609957",
   "metadata": {},
   "outputs": [],
   "source": [
    "with open(os.path.join(DATA_PATH, 'train_topic_distr_BERT_scikit.pickle'), 'rb') as handle:\n",
    "    train_topic_distr = pickle.load(handle)\n",
    "with open(os.path.join(DATA_PATH, 'validate_topic_distr_BERT_scikit.pickle'), 'rb') as handle:\n",
    "    validate_topic_distr = pickle.load(handle)\n",
    "with open(os.path.join(DATA_PATH, 'test_topic_distr_BERT_scikit.pickle'), 'rb') as handle:\n",
    "    test_topic_distr = pickle.load(handle)"
   ]
  },
  {
   "cell_type": "markdown",
   "id": "92d84cbf-75e1-4d09-9570-7ada4c4f05fc",
   "metadata": {},
   "source": [
    "Merge metadata and topics into a data frame"
   ]
  },
  {
   "cell_type": "code",
   "execution_count": 77,
   "id": "587199dc-9683-45fe-ad17-04871c3bc835",
   "metadata": {},
   "outputs": [],
   "source": [
    "def merge_df(article_df, topics_np):\n",
    "    \"\"\"\n",
    "    Add topic distributions to article metadata.\n",
    "    \n",
    "    article_df: pandas.DataFrame article metadata\n",
    "    topics_np: numpy.array topics distributions\n",
    "    return pandas.DataFrame\n",
    "    \"\"\"\n",
    "    topics_df = pd.DataFrame(topics_np)\n",
    "    topics_df.columns = [\"topic_%d\"%n for n in range(len(topics_df.columns))]\n",
    "    merged = article_df.reset_index(drop=True).join(topics_df.reset_index(drop=True))\n",
    "    return merged"
   ]
  },
  {
   "cell_type": "code",
   "execution_count": 78,
   "id": "ca9a1669-16fe-4d43-81ea-9e4e3e567522",
   "metadata": {},
   "outputs": [],
   "source": [
    "train_df = merge_df(train_df, train_topic_distr)\n",
    "validate_df = merge_df(validate_df, validate_topic_distr)\n",
    "test_df = merge_df(test_df, test_topic_distr)"
   ]
  },
  {
   "cell_type": "markdown",
   "id": "083f1bcd-8982-4a8d-a313-cef969621048",
   "metadata": {},
   "source": [
    "## Article distances"
   ]
  },
  {
   "cell_type": "code",
   "execution_count": 81,
   "id": "f324f5d9-0cd7-439b-8f70-12e058849e2f",
   "metadata": {},
   "outputs": [],
   "source": [
    "import numpy as np\n",
    "\n",
    "def topic_distance(article1, article2):\n",
    "    \"\"\"\n",
    "    Compute the distance between 2 articles.\n",
    "    article1, article2: pandas.Dataframe\n",
    "    return float\n",
    "    \"\"\"\n",
    "    # numpy array with topics probabilities for the article\n",
    "    mask1 = article1.columns.str.contains(\"topic_.\")\n",
    "    topics1 = np.array(article1.loc[:, mask1])\n",
    "    mask2 = article2.columns.str.contains(\"topic_.\")\n",
    "    topics2 = np.array(article2.loc[:, mask2])\n",
    "    \n",
    "    dist = np.linalg.norm(topics1 - topics2)  # euclidean distance, L2 norm is default\n",
    "    return dist"
   ]
  },
  {
   "cell_type": "markdown",
   "id": "31ebea71-441c-4c6e-8584-86697f1777b2",
   "metadata": {},
   "source": [
    "### Tests"
   ]
  },
  {
   "cell_type": "markdown",
   "id": "997be8ce-1faf-4615-a5f0-273cd3e52f54",
   "metadata": {},
   "source": [
    "#### Test1\n",
    "The distance between same articles should be 0"
   ]
  },
  {
   "cell_type": "code",
   "execution_count": 85,
   "id": "fa265638-03a3-4b04-ab3f-e043c019aef9",
   "metadata": {},
   "outputs": [],
   "source": [
    "# pick a random paper\n",
    "rnd_article = validate_df.sample()\n",
    "assert topic_distance(rnd_article, rnd_article) == 0, \"Distance between same articles should be 0\""
   ]
  },
  {
   "cell_type": "markdown",
   "id": "7b184dc6-1a1f-47c2-8812-da4e527236cb",
   "metadata": {},
   "source": [
    "#### Test2\n",
    "The distance between different articles should be a non-zero positive number"
   ]
  },
  {
   "cell_type": "code",
   "execution_count": 101,
   "id": "56651e12-94b3-4750-adc2-5c3c7818ea68",
   "metadata": {},
   "outputs": [],
   "source": [
    "while True:\n",
    "    rnd_article1 = validate_df.sample()\n",
    "    rnd_article2 = validate_df.sample()\n",
    "    if rnd_article1.id.values[0] != rnd_article2.id.values[0]: break\n",
    "\n",
    "assert topic_distance(rnd_article1, rnd_article2) > 0, \"Distance between different articles should be greater than 0\""
   ]
  },
  {
   "cell_type": "markdown",
   "id": "f162fcad-6186-4ade-8745-c7d4727eab23",
   "metadata": {},
   "source": [
    "#### Test3\n",
    "The distance between articles by the same author(s) should be on average smaller than that between rtickles by different authors (that is the essential assumption of the experiment)."
   ]
  },
  {
   "cell_type": "code",
   "execution_count": 188,
   "id": "f0f482a2-4d78-479b-b772-29151c23eecb",
   "metadata": {},
   "outputs": [],
   "source": [
    "# pairs of articles with at least one common author \n",
    "same_author = []\n",
    "# pairs of articles with no author in common \n",
    "not_same_author = []\n",
    "\n",
    "def article_with_common_author(article, df):\n",
    "    \"\"\"\n",
    "    Get a different article with at least one common author in the dataset df.\n",
    "    article: pandas.DataFrame \n",
    "    df: pandas.DataFrame \n",
    "    returns: pandas.DataFrame \n",
    "    \"\"\"\n",
    "    article_found = None\n",
    "    for author in article.authors_parsed.iloc[0]:\n",
    "        for i,row in df.iterrows():\n",
    "            if author in row.authors_parsed:\n",
    "                article_found = df[df.id == row.id]\n",
    "                break\n",
    "    return article_found"
   ]
  },
  {
   "cell_type": "code",
   "execution_count": 195,
   "id": "7b9477c6-5881-4eed-a627-a9747748428c",
   "metadata": {},
   "outputs": [],
   "source": [
    "rnd_article = validate_df.sample()\n",
    "rnd_article2 = article_with_common_author(rnd_article, validate_df)\n"
   ]
  },
  {
   "cell_type": "code",
   "execution_count": 196,
   "id": "65ba4549-fdee-4296-90d8-117915877282",
   "metadata": {},
   "outputs": [
    {
     "data": {
      "text/plain": [
       "2793    [López-Gallifa, Á., , Rivilla, V. M., , Beltrá...\n",
       "Name: authors_parsed, dtype: object"
      ]
     },
     "execution_count": 196,
     "metadata": {},
     "output_type": "execute_result"
    }
   ],
   "source": [
    "rnd_article.authors_parsed"
   ]
  },
  {
   "cell_type": "code",
   "execution_count": 197,
   "id": "d3550bd8-22ec-4b3c-afe1-6ccb222aa1f3",
   "metadata": {},
   "outputs": [
    {
     "data": {
      "text/html": [
       "<div>\n",
       "<style scoped>\n",
       "    .dataframe tbody tr th:only-of-type {\n",
       "        vertical-align: middle;\n",
       "    }\n",
       "\n",
       "    .dataframe tbody tr th {\n",
       "        vertical-align: top;\n",
       "    }\n",
       "\n",
       "    .dataframe thead th {\n",
       "        text-align: right;\n",
       "    }\n",
       "</style>\n",
       "<table border=\"1\" class=\"dataframe\">\n",
       "  <thead>\n",
       "    <tr style=\"text-align: right;\">\n",
       "      <th></th>\n",
       "      <th>id</th>\n",
       "      <th>submitter</th>\n",
       "      <th>authors</th>\n",
       "      <th>title</th>\n",
       "      <th>comments</th>\n",
       "      <th>journal-ref</th>\n",
       "      <th>doi</th>\n",
       "      <th>report-no</th>\n",
       "      <th>categories</th>\n",
       "      <th>license</th>\n",
       "      <th>...</th>\n",
       "      <th>topic_274</th>\n",
       "      <th>topic_275</th>\n",
       "      <th>topic_276</th>\n",
       "      <th>topic_277</th>\n",
       "      <th>topic_278</th>\n",
       "      <th>topic_279</th>\n",
       "      <th>topic_280</th>\n",
       "      <th>topic_281</th>\n",
       "      <th>topic_282</th>\n",
       "      <th>topic_283</th>\n",
       "    </tr>\n",
       "  </thead>\n",
       "  <tbody>\n",
       "    <tr>\n",
       "      <th>2793</th>\n",
       "      <td>2403.02191</td>\n",
       "      <td>\\'Alvaro L\\'opez-Gallifa</td>\n",
       "      <td>\\'A. L\\'opez-Gallifa, V. M. Rivilla, M. T. Bel...</td>\n",
       "      <td>The GUAPOS project. V: The chemical ingredient...</td>\n",
       "      <td>Accepted for publication in Monthly Notices of...</td>\n",
       "      <td>NaN</td>\n",
       "      <td>NaN</td>\n",
       "      <td>NaN</td>\n",
       "      <td>astro-ph.GA</td>\n",
       "      <td>http://arxiv.org/licenses/nonexclusive-distrib...</td>\n",
       "      <td>...</td>\n",
       "      <td>0.0</td>\n",
       "      <td>0.012689</td>\n",
       "      <td>0.0</td>\n",
       "      <td>0.0</td>\n",
       "      <td>0.0</td>\n",
       "      <td>0.0</td>\n",
       "      <td>0.0</td>\n",
       "      <td>0.0</td>\n",
       "      <td>0.0</td>\n",
       "      <td>0.0</td>\n",
       "    </tr>\n",
       "  </tbody>\n",
       "</table>\n",
       "<p>1 rows × 310 columns</p>\n",
       "</div>"
      ],
      "text/plain": [
       "              id                 submitter  \\\n",
       "2793  2403.02191  \\'Alvaro L\\'opez-Gallifa   \n",
       "\n",
       "                                                authors  \\\n",
       "2793  \\'A. L\\'opez-Gallifa, V. M. Rivilla, M. T. Bel...   \n",
       "\n",
       "                                                  title  \\\n",
       "2793  The GUAPOS project. V: The chemical ingredient...   \n",
       "\n",
       "                                               comments journal-ref  doi  \\\n",
       "2793  Accepted for publication in Monthly Notices of...         NaN  NaN   \n",
       "\n",
       "     report-no   categories  \\\n",
       "2793       NaN  astro-ph.GA   \n",
       "\n",
       "                                                license  ... topic_274  \\\n",
       "2793  http://arxiv.org/licenses/nonexclusive-distrib...  ...       0.0   \n",
       "\n",
       "     topic_275 topic_276 topic_277 topic_278  topic_279  topic_280  topic_281  \\\n",
       "2793  0.012689       0.0       0.0       0.0        0.0        0.0        0.0   \n",
       "\n",
       "      topic_282  topic_283  \n",
       "2793        0.0        0.0  \n",
       "\n",
       "[1 rows x 310 columns]"
      ]
     },
     "execution_count": 197,
     "metadata": {},
     "output_type": "execute_result"
    }
   ],
   "source": [
    "rnd_article2"
   ]
  },
  {
   "cell_type": "code",
   "execution_count": null,
   "id": "27c08c8e-d670-4252-9046-700cde726d78",
   "metadata": {},
   "outputs": [],
   "source": []
  }
 ],
 "metadata": {
  "kernelspec": {
   "display_name": "Python 3 (ipykernel)",
   "language": "python",
   "name": "python3"
  },
  "language_info": {
   "codemirror_mode": {
    "name": "ipython",
    "version": 3
   },
   "file_extension": ".py",
   "mimetype": "text/x-python",
   "name": "python",
   "nbconvert_exporter": "python",
   "pygments_lexer": "ipython3",
   "version": "3.11.2"
  }
 },
 "nbformat": 4,
 "nbformat_minor": 5
}
