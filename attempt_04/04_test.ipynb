{
 "cells": [
  {
   "cell_type": "markdown",
   "id": "1f32ad54-ff68-453b-8203-4043af52ef39",
   "metadata": {},
   "source": [
    "# Test"
   ]
  },
  {
   "cell_type": "code",
   "execution_count": 1,
   "id": "11e78344-19ad-4f70-a183-d0e33d5ca7c0",
   "metadata": {},
   "outputs": [],
   "source": [
    "import pandas as pd\n",
    "import pickle\n",
    "import os\n",
    "import numpy as np\n",
    "from random import shuffle\n",
    "import statistics\n",
    "import matplotlib.pyplot as plt\n",
    "%matplotlib inline"
   ]
  },
  {
   "cell_type": "code",
   "execution_count": 2,
   "id": "574dea78-a1a9-46d1-ab30-c20ec98a8854",
   "metadata": {},
   "outputs": [],
   "source": [
    "DATA_PATH = '../data'\n",
    "MODELS_PATH = '../models'"
   ]
  },
  {
   "cell_type": "markdown",
   "id": "09a8b626-0cef-4dbf-9453-9cb28443ba57",
   "metadata": {},
   "source": [
    "Load the article metadata"
   ]
  },
  {
   "cell_type": "code",
   "execution_count": 3,
   "id": "7ca037fc-7900-4d64-b19d-6051de22b159",
   "metadata": {},
   "outputs": [],
   "source": [
    "def load_df(name):\n",
    "    # make sure the authors_parsed column contains arrays of str, 1 str per author name\n",
    "    # e.g. ['Bognár, Zs., ', 'Sódor, Á., ', 'Clark, I. R., ', 'Kawaler, S. D., ']\n",
    "    return pd.read_csv(\n",
    "        os.path.join(DATA_PATH, name), \n",
    "        index_col=0, \n",
    "        converters={\"authors_parsed\": lambda x:[entry.replace('\\'', '').strip(\"[]\") for entry in x.split(\"', '\")]}\n",
    "    )\n",
    "\n",
    "train_df = load_df('arxiv_train.csv')\n",
    "validate_df = load_df('arxiv_validate.csv')\n",
    "test_df = load_df('arxiv_test.csv')"
   ]
  },
  {
   "cell_type": "markdown",
   "id": "de66d8ec-5c8e-43b4-b5fd-168bc57a8518",
   "metadata": {},
   "source": [
    "Load the article topics"
   ]
  },
  {
   "cell_type": "code",
   "execution_count": 4,
   "id": "e1d7a187-35c8-46d3-aaed-edcfed609957",
   "metadata": {},
   "outputs": [],
   "source": [
    "with open(os.path.join(DATA_PATH, 'train_topic_distr_BERT_scikit.pickle'), 'rb') as handle:\n",
    "    train_topic_distr = pickle.load(handle)\n",
    "with open(os.path.join(DATA_PATH, 'validate_topic_distr_BERT_scikit.pickle'), 'rb') as handle:\n",
    "    validate_topic_distr = pickle.load(handle)\n",
    "with open(os.path.join(DATA_PATH, 'test_topic_distr_BERT_scikit.pickle'), 'rb') as handle:\n",
    "    test_topic_distr = pickle.load(handle)"
   ]
  },
  {
   "cell_type": "markdown",
   "id": "92d84cbf-75e1-4d09-9570-7ada4c4f05fc",
   "metadata": {},
   "source": [
    "Merge metadata and topics into a data frame"
   ]
  },
  {
   "cell_type": "code",
   "execution_count": 5,
   "id": "587199dc-9683-45fe-ad17-04871c3bc835",
   "metadata": {},
   "outputs": [],
   "source": [
    "def merge_df(article_df, topics_np):\n",
    "    \"\"\"\n",
    "    Add topic distributions to article metadata.\n",
    "    \n",
    "    article_df: pandas.DataFrame article metadata\n",
    "    topics_np: numpy.array topics distributions\n",
    "    return pandas.DataFrame\n",
    "    \"\"\"\n",
    "    topics_df = pd.DataFrame(topics_np)\n",
    "    topics_df.columns = [\"topic_%d\"%n for n in range(len(topics_df.columns))]\n",
    "    merged = article_df.reset_index(drop=True).join(topics_df.reset_index(drop=True))\n",
    "    return merged"
   ]
  },
  {
   "cell_type": "code",
   "execution_count": 6,
   "id": "ca9a1669-16fe-4d43-81ea-9e4e3e567522",
   "metadata": {},
   "outputs": [],
   "source": [
    "train_df = merge_df(train_df, train_topic_distr)\n",
    "validate_df = merge_df(validate_df, validate_topic_distr)\n",
    "test_df = merge_df(test_df, test_topic_distr)"
   ]
  },
  {
   "cell_type": "markdown",
   "id": "083f1bcd-8982-4a8d-a313-cef969621048",
   "metadata": {},
   "source": [
    "## Article distances"
   ]
  },
  {
   "cell_type": "code",
   "execution_count": 7,
   "id": "f324f5d9-0cd7-439b-8f70-12e058849e2f",
   "metadata": {},
   "outputs": [],
   "source": [
    "import numpy as np\n",
    "\n",
    "def topic_distance(article1, article2):\n",
    "    \"\"\"\n",
    "    Compute the distance between 2 articles.\n",
    "    article1, article2: pandas.Dataframe\n",
    "    return float\n",
    "    \"\"\"\n",
    "    # numpy array with topics probabilities for the article\n",
    "    mask1 = article1.columns.str.contains(\"topic_.\")\n",
    "    topics1 = np.array(article1.loc[:, mask1])\n",
    "    mask2 = article2.columns.str.contains(\"topic_.\")\n",
    "    topics2 = np.array(article2.loc[:, mask2])\n",
    "    \n",
    "    dist = np.linalg.norm(topics1 - topics2)  # euclidean distance, L2 norm is default\n",
    "    return dist"
   ]
  },
  {
   "cell_type": "markdown",
   "id": "31ebea71-441c-4c6e-8584-86697f1777b2",
   "metadata": {},
   "source": [
    "### Tests"
   ]
  },
  {
   "cell_type": "markdown",
   "id": "997be8ce-1faf-4615-a5f0-273cd3e52f54",
   "metadata": {},
   "source": [
    "#### Test1\n",
    "The distance between same articles should be 0"
   ]
  },
  {
   "cell_type": "code",
   "execution_count": 8,
   "id": "fa265638-03a3-4b04-ab3f-e043c019aef9",
   "metadata": {},
   "outputs": [],
   "source": [
    "# pick a random paper\n",
    "rnd_article = validate_df.sample()\n",
    "assert topic_distance(rnd_article, rnd_article) == 0, \"Distance between same articles should be 0\""
   ]
  },
  {
   "cell_type": "markdown",
   "id": "7b184dc6-1a1f-47c2-8812-da4e527236cb",
   "metadata": {},
   "source": [
    "#### Test2\n",
    "The distance between different articles should be a non-zero positive number"
   ]
  },
  {
   "cell_type": "code",
   "execution_count": 9,
   "id": "56651e12-94b3-4750-adc2-5c3c7818ea68",
   "metadata": {},
   "outputs": [],
   "source": [
    "while True:\n",
    "    rnd_article1 = validate_df.sample()\n",
    "    rnd_article2 = validate_df.sample()\n",
    "    if rnd_article1.id.values[0] != rnd_article2.id.values[0]: break\n",
    "\n",
    "assert topic_distance(rnd_article1, rnd_article2) > 0, \"Distance between different articles should be greater than 0\""
   ]
  },
  {
   "cell_type": "markdown",
   "id": "f162fcad-6186-4ade-8745-c7d4727eab23",
   "metadata": {},
   "source": [
    "#### Test3\n",
    "The distance between articles by the same author(s) should be on average smaller than that between articles by different authors (that is the essential assumption of the experiment). Fisrt test on the validation dataset."
   ]
  },
  {
   "cell_type": "code",
   "execution_count": 10,
   "id": "f0f482a2-4d78-479b-b772-29151c23eecb",
   "metadata": {},
   "outputs": [],
   "source": [
    "def article_with_common_author(article, df):\n",
    "    \"\"\"\n",
    "    Get a different article with at least one common author in the dataset df.\n",
    "    article: pandas.DataFrame \n",
    "    df: pandas.DataFrame \n",
    "    returns: id of an article\n",
    "    \"\"\"\n",
    "    article_found = None\n",
    "    for author in article.authors_parsed.iloc[0]:\n",
    "        for i,row in df.iterrows():\n",
    "            if (author in row.authors_parsed) and (article.id.iloc[0]!=row.id):\n",
    "                article_found = row.id\n",
    "                break\n",
    "    return article_found\n",
    "\n",
    "def article_without_common_author(article, df):\n",
    "    \"\"\"\n",
    "    Get a different article with at no common author in the dataset df.\n",
    "    article: pandas.DataFrame \n",
    "    df: pandas.DataFrame \n",
    "    returns: id of an article\n",
    "    \"\"\"\n",
    "    article_found = None\n",
    "    idx = df.index.to_list()\n",
    "    shuffle(idx)\n",
    "    for id in idx:\n",
    "        row = df.iloc[id]\n",
    "        # same article\n",
    "        if article.id.iloc[0] == id: \n",
    "            continue\n",
    "        # common author\n",
    "        for author in article.authors_parsed.iloc[0]:\n",
    "            if author in row.authors_parsed: \n",
    "                continue\n",
    "        article_found = row.id\n",
    "        break\n",
    "    return article_found"
   ]
  },
  {
   "cell_type": "code",
   "execution_count": 12,
   "id": "7b9477c6-5881-4eed-a627-a9747748428c",
   "metadata": {},
   "outputs": [
    {
     "name": "stdout",
     "output_type": "stream",
     "text": [
      "processing article 1/1000\n",
      "processing article 101/1000\n",
      "processing article 201/1000\n",
      "processing article 301/1000\n",
      "processing article 401/1000\n",
      "processing article 501/1000\n",
      "processing article 601/1000\n",
      "processing article 701/1000\n",
      "processing article 801/1000\n",
      "processing article 901/1000\n",
      "CPU times: user 37min 37s, sys: 5min 16s, total: 42min 53s\n",
      "Wall time: 42min 54s\n"
     ]
    }
   ],
   "source": [
    "%%time\n",
    "\n",
    "# pairs of article ids with at least one common author \n",
    "common_author = []\n",
    "# pairs of article ids with no author in common \n",
    "no_common_author = []\n",
    "\n",
    "# max number of articles in lists above. Note that common author might not have the max number of entries.\n",
    "MAX_ARTICLES = 1000\n",
    "\n",
    "counter = 0\n",
    "while(counter < MAX_ARTICLES):\n",
    "    if counter % 100 == 0: print(f\"processing article {counter+1}/{MAX_ARTICLES}\")\n",
    "    rnd_article = validate_df.sample()\n",
    "    rnd_article_common_id = article_with_common_author(rnd_article, validate_df)\n",
    "    if rnd_article_common_id:\n",
    "        common_author.append((rnd_article.id.iloc[0], rnd_article_common_id))\n",
    "    rnd_article_no_common_id = article_without_common_author(rnd_article, validate_df)\n",
    "    no_common_author.append((rnd_article.id.iloc[0], rnd_article_no_common_id))\n",
    "    counter += 1"
   ]
  },
  {
   "cell_type": "markdown",
   "id": "443d9b24-d4be-4b86-b82e-ec882fb99de8",
   "metadata": {},
   "source": [
    "Calculate distances between pairs of articles with common authors, compare to distances between articles without common authors."
   ]
  },
  {
   "cell_type": "code",
   "execution_count": 13,
   "id": "4ac25bd0-d964-4f04-928d-0f8e899673a1",
   "metadata": {},
   "outputs": [],
   "source": [
    "common_author_distances = []\n",
    "\n",
    "for pair in common_author:\n",
    "    article1 = validate_df[validate_df.id==pair[0]]\n",
    "    article2 = validate_df[validate_df.id==pair[1]]\n",
    "    distance = topic_distance(article1, article2)\n",
    "    common_author_distances.append(distance)"
   ]
  },
  {
   "cell_type": "code",
   "execution_count": 14,
   "id": "518f90b4-b9c5-4cc4-bce8-ad7efd0acfab",
   "metadata": {},
   "outputs": [],
   "source": [
    "no_common_author_distances = []\n",
    "\n",
    "for pair in no_common_author:\n",
    "    article1 = validate_df[validate_df.id==pair[0]]\n",
    "    article2 = validate_df[validate_df.id==pair[1]]\n",
    "    distance = topic_distance(article1, article2)\n",
    "    no_common_author_distances.append(distance)"
   ]
  },
  {
   "cell_type": "code",
   "execution_count": 15,
   "id": "b01c06f2-2482-432e-add3-8f31f310743e",
   "metadata": {},
   "outputs": [],
   "source": [
    "assert \\\n",
    "    statistics.mean(common_author_distances) < statistics.mean(no_common_author_distances), \\\n",
    "    \"Articles with no common author are closer than articles with a common author.\""
   ]
  },
  {
   "cell_type": "markdown",
   "id": "d3b60573-792a-44e5-9b2c-0414c893ddd5",
   "metadata": {},
   "source": [
    "#### Test4\n",
    "The distance between articles by the same author(s) should be on average smaller than that between articles by different authors (that is the essential assumption of the experiment). Second test with random articles on the  validation dataset and authors on the training dataset."
   ]
  },
  {
   "cell_type": "code",
   "execution_count": 17,
   "id": "c53a0454-f21a-476a-a13d-13008ab69b75",
   "metadata": {},
   "outputs": [
    {
     "name": "stdout",
     "output_type": "stream",
     "text": [
      "processing article 1/1000\n",
      "processing article 101/1000\n",
      "processing article 201/1000\n",
      "processing article 301/1000\n",
      "processing article 401/1000\n",
      "processing article 501/1000\n",
      "processing article 601/1000\n",
      "processing article 701/1000\n",
      "processing article 801/1000\n",
      "processing article 901/1000\n",
      "CPU times: user 1h 16min 37s, sys: 15min 43s, total: 1h 32min 21s\n",
      "Wall time: 1h 32min 22s\n"
     ]
    }
   ],
   "source": [
    "%%time\n",
    "\n",
    "# pairs of article ids with at least one common author \n",
    "common_author = []\n",
    "# pairs of article ids with no author in common \n",
    "no_common_author = []\n",
    "\n",
    "# max number of articles in lists above. Note that common author might not have the max number of entries.\n",
    "MAX_ARTICLES = 1000\n",
    "\n",
    "counter = 0\n",
    "while(counter < MAX_ARTICLES):\n",
    "    if counter % 100 == 0: print(f\"processing article {counter+1}/{MAX_ARTICLES}\")\n",
    "    rnd_article = validate_df.sample()\n",
    "    rnd_article_common_id = article_with_common_author(rnd_article, train_df)\n",
    "    if rnd_article_common_id:\n",
    "        common_author.append((rnd_article.id.iloc[0], rnd_article_common_id))\n",
    "    rnd_article_no_common_id = article_without_common_author(rnd_article, train_df)\n",
    "    no_common_author.append((rnd_article.id.iloc[0], rnd_article_no_common_id))\n",
    "    counter += 1"
   ]
  },
  {
   "cell_type": "code",
   "execution_count": 20,
   "id": "05432033-f63f-416b-98d2-53a3a66283ee",
   "metadata": {},
   "outputs": [],
   "source": [
    "# save test data\n",
    "with open(os.path.join(DATA_PATH, 'common_author.pickle'), 'wb') as handle:\n",
    "    pickle.dump(common_author, handle, protocol=pickle.HIGHEST_PROTOCOL)\n",
    "with open(os.path.join(DATA_PATH, 'no_common_author.pickle'), 'wb') as handle:\n",
    "    pickle.dump(no_common_author, handle, protocol=pickle.HIGHEST_PROTOCOL)"
   ]
  },
  {
   "cell_type": "markdown",
   "id": "62741c22-efc9-4b95-9cd7-d1c459c238ff",
   "metadata": {},
   "source": [
    "Calculate distances between pairs of articles with common authors, compare to distances between articles without common authors."
   ]
  },
  {
   "cell_type": "code",
   "execution_count": 22,
   "id": "d7d59bc7-c9df-49b6-8921-1d74a170c94c",
   "metadata": {},
   "outputs": [],
   "source": [
    "common_author_distances = []\n",
    "\n",
    "for pair in common_author:\n",
    "    article1 = validate_df[validate_df.id==pair[0]]\n",
    "    article2 = train_df[train_df.id==pair[1]]\n",
    "    distance = topic_distance(article1, article2)\n",
    "    common_author_distances.append(distance)"
   ]
  },
  {
   "cell_type": "code",
   "execution_count": 23,
   "id": "a9a4f4aa-dd98-4af2-acbf-245202150f14",
   "metadata": {},
   "outputs": [],
   "source": [
    "no_common_author_distances = []\n",
    "\n",
    "for pair in no_common_author:\n",
    "    article1 = validate_df[validate_df.id==pair[0]]\n",
    "    article2 = train_df[train_df.id==pair[1]]\n",
    "    distance = topic_distance(article1, article2)\n",
    "    no_common_author_distances.append(distance)"
   ]
  },
  {
   "cell_type": "code",
   "execution_count": 24,
   "id": "eb31916b-8c58-4e2c-bbda-a907011970c5",
   "metadata": {},
   "outputs": [],
   "source": [
    "assert \\\n",
    "    statistics.mean(common_author_distances) < statistics.mean(no_common_author_distances), \\\n",
    "    \"Articles with no common author are closer than articles with a common author.\""
   ]
  },
  {
   "cell_type": "code",
   "execution_count": 25,
   "id": "85427297-22b6-43d7-a497-8da23dc9db1d",
   "metadata": {},
   "outputs": [
    {
     "data": {
      "image/png": "[encoded data removed]",
      "text/plain": [
       "<Figure size 640x480 with 1 Axes>"
      ]
     },
     "metadata": {},
     "output_type": "display_data"
    }
   ],
   "source": [
    "data = [common_author_distances, no_common_author_distances]\n",
    "fig, ax = plt.subplots()\n",
    "ax.boxplot(data, tick_labels=['Common author', 'No common author'])\n",
    "ax.set_ylabel(\"Distance\")\n",
    "plt.title(f\"Distance between articles\")\n",
    "plt.show()"
   ]
  },
  {
   "cell_type": "code",
   "execution_count": 27,
   "id": "1e42089a-9d3e-445e-933c-0268c47d86e8",
   "metadata": {},
   "outputs": [
    {
     "name": "stdout",
     "output_type": "stream",
     "text": [
      "The mean distance between articles that share at least one author is 0.31.\n",
      "The mean distance between articles that do nopt have a common author is 0.38.\n",
      "The p-value is 1.44E-56.\n"
     ]
    }
   ],
   "source": [
    "from scipy import stats\n",
    "\n",
    "# Perform the t-test:\n",
    "t_stat, p_value = stats.ttest_ind(common_author_distances, no_common_author_distances)\n",
    "print(f\"The mean distance between articles that share at least one author is {np.mean(common_author_distances):.2f}.\")\n",
    "print(f\"The mean distance between articles that do not have a common author is {np.mean(no_common_author_distances):.2f}.\")\n",
    "print(f\"The p-value is {p_value:.2E}.\")\n"
   ]
  },
  {
   "cell_type": "markdown",
   "id": "6f740740-3fa9-423e-b8f9-7d061026ba4d",
   "metadata": {},
   "source": [
    "Therefore, articles by the same authors are significantly closer to each other in topic space than articles by different authors, but the distances overlap."
   ]
  },
  {
   "cell_type": "code",
   "execution_count": null,
   "id": "4ed9abdc-61f5-4b92-afa3-3ee5e1d185de",
   "metadata": {},
   "outputs": [],
   "source": []
  }
 ],
 "metadata": {
  "kernelspec": {
   "display_name": "Python 3 (ipykernel)",
   "language": "python",
   "name": "python3"
  },
  "language_info": {
   "codemirror_mode": {
    "name": "ipython",
    "version": 3
   },
   "file_extension": ".py",
   "mimetype": "text/x-python",
   "name": "python",
   "nbconvert_exporter": "python",
   "pygments_lexer": "ipython3",
   "version": "3.11.2"
  }
 },
 "nbformat": 4,
 "nbformat_minor": 5
}
