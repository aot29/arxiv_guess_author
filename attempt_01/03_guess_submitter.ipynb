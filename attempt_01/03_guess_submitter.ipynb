{
 "cells": [
  {
   "cell_type": "markdown",
   "id": "3101b10e-2125-4937-9535-dc2a044fc546",
   "metadata": {},
   "source": [
    "# Guess submitter\n",
    "\n",
    "Determine topics for each article\n",
    "* Load the train/validate/test tokenized article abstracts\n",
    "* Load the model\n",
    "* Use the model to assign topics probability to all articles\n"
   ]
  },
  {
   "cell_type": "code",
   "execution_count": 2,
   "id": "cf52110d-2f75-47e1-a130-d123c0fbb781",
   "metadata": {},
   "outputs": [],
   "source": [
    "import pandas as pd\n",
    "import pickle\n",
    "import os"
   ]
  },
  {
   "cell_type": "code",
   "execution_count": 5,
   "id": "8d1b5cc8-7a69-465b-bd84-8da0aaca9e65",
   "metadata": {},
   "outputs": [],
   "source": [
    "DATA_PATH = '../data'\n",
    "MODELS_PATH = '../models'"
   ]
  },
  {
   "cell_type": "markdown",
   "id": "b829e8d3-d682-407d-a9bd-a6e2ae2e7064",
   "metadata": {},
   "source": [
    "## Load the article data\n",
    "Load the article abstracts and metadata for the train/validate/test datasets"
   ]
  },
  {
   "cell_type": "code",
   "execution_count": 4,
   "id": "de627633-5cde-4bae-8fb1-8dbec2a3a76c",
   "metadata": {},
   "outputs": [],
   "source": [
    "train_df = pd.read_csv(os.path.join(DATA_PATH, 'arxiv_train.csv'), index_col=0)\n",
    "validate_df = pd.read_csv(os.path.join(DATA_PATH, 'arxiv_validate.csv'), index_col=0)\n",
    "test_df = pd.read_csv(os.path.join(DATA_PATH, 'arxiv_test.csv'), index_col=0)"
   ]
  },
  {
   "cell_type": "markdown",
   "id": "7b0465b3-e910-497b-a418-45a000034f42",
   "metadata": {},
   "source": [
    "## Load the tokenized data\n",
    "Load the dictionary and the tokenized data for the train/validate/test datasets"
   ]
  },
  {
   "cell_type": "code",
   "execution_count": 14,
   "id": "92e813d4-96aa-498d-a1ef-4d10ce60bcf9",
   "metadata": {},
   "outputs": [],
   "source": [
    "with open(os.path.join(DATA_PATH, 'dictionary.pickle'), 'rb') as handle:\n",
    "    dictionary = tokenized_dataset = pickle.load(handle)"
   ]
  },
  {
   "cell_type": "code",
   "execution_count": 12,
   "id": "2be99528-43b7-440c-bf25-9654e09ae689",
   "metadata": {},
   "outputs": [],
   "source": [
    "def load_tokenized_dataset(file_name):\n",
    "    path = os.path.join(DATA_PATH, file_name)\n",
    "    with open(path, 'rb') as handle:\n",
    "        tokenized_dataset = pickle.load(handle)\n",
    "    return tokenized_dataset\n",
    "\n",
    "def load_tokenized_datasets():\n",
    "    corpus_train = load_tokenized_dataset(\"corpus_train.pickle\")\n",
    "    corpus_validate = load_tokenized_dataset(\"corpus_validate.pickle\")\n",
    "    corpus_test = load_tokenized_dataset(\"corpus_test.pickle\")\n",
    "    return corpus_train, corpus_validate, corpus_test"
   ]
  },
  {
   "cell_type": "code",
   "execution_count": 13,
   "id": "dc4ce984-a567-4d55-9ec1-4fc91e24f2c0",
   "metadata": {},
   "outputs": [],
   "source": [
    "corpus_train, corpus_validate, corpus_test = load_tokenized_datasets()"
   ]
  },
  {
   "cell_type": "markdown",
   "id": "14b533f4-8886-4fd4-b2ce-75ce9822c118",
   "metadata": {},
   "source": [
    "## Load the model\n",
    "The model is the topic model fitted in 02_fit_model."
   ]
  },
  {
   "cell_type": "code",
   "execution_count": 7,
   "id": "7291bc5e-2f1b-40a8-98b0-1b793d676d51",
   "metadata": {},
   "outputs": [],
   "source": [
    "with open(os.path.join(MODELS_PATH, 'topic_model.pickle'), 'rb') as handle:\n",
    "    topic_model = pickle.load(handle)"
   ]
  },
  {
   "cell_type": "markdown",
   "id": "21760ac0-abbd-4c12-a83d-dce43f6d3ce5",
   "metadata": {},
   "source": [
    "## Assign topics\n",
    "Use the model to assign topics probability to all articles"
   ]
  },
  {
   "cell_type": "code",
   "execution_count": null,
   "id": "f36a0d0b-d74e-44e1-8c37-cfcc91634f37",
   "metadata": {},
   "outputs": [],
   "source": []
  }
 ],
 "metadata": {
  "kernelspec": {
   "display_name": "Python 3 (ipykernel)",
   "language": "python",
   "name": "python3"
  },
  "language_info": {
   "codemirror_mode": {
    "name": "ipython",
    "version": 3
   },
   "file_extension": ".py",
   "mimetype": "text/x-python",
   "name": "python",
   "nbconvert_exporter": "python",
   "pygments_lexer": "ipython3",
   "version": "3.12.2"
  }
 },
 "nbformat": 4,
 "nbformat_minor": 5
}
