{
 "cells": [
  {
   "cell_type": "markdown",
   "id": "3101b10e-2125-4937-9535-dc2a044fc546",
   "metadata": {},
   "source": [
    "# Guess submitter\n",
    "\n",
    "Determine topics for each article\n",
    "* Load the train/validate/test tokenized article abstracts\n",
    "* Load the model\n",
    "* Use the model to assign topics probability to all articles\n"
   ]
  },
  {
   "cell_type": "code",
   "execution_count": 1,
   "id": "cf52110d-2f75-47e1-a130-d123c0fbb781",
   "metadata": {},
   "outputs": [],
   "source": [
    "import pandas as pd\n",
    "import pickle\n",
    "import os"
   ]
  },
  {
   "cell_type": "code",
   "execution_count": 2,
   "id": "8d1b5cc8-7a69-465b-bd84-8da0aaca9e65",
   "metadata": {},
   "outputs": [],
   "source": [
    "DATA_PATH = '../data'"
   ]
  },
  {
   "cell_type": "markdown",
   "id": "b829e8d3-d682-407d-a9bd-a6e2ae2e7064",
   "metadata": {},
   "source": [
    "# Load the train/validate/test tokenized article abstracts"
   ]
  },
  {
   "cell_type": "code",
   "execution_count": null,
   "id": "de627633-5cde-4bae-8fb1-8dbec2a3a76c",
   "metadata": {},
   "outputs": [],
   "source": []
  }
 ],
 "metadata": {
  "kernelspec": {
   "display_name": "Python 3 (ipykernel)",
   "language": "python",
   "name": "python3"
  },
  "language_info": {
   "codemirror_mode": {
    "name": "ipython",
    "version": 3
   },
   "file_extension": ".py",
   "mimetype": "text/x-python",
   "name": "python",
   "nbconvert_exporter": "python",
   "pygments_lexer": "ipython3",
   "version": "3.12.2"
  }
 },
 "nbformat": 4,
 "nbformat_minor": 5
}
