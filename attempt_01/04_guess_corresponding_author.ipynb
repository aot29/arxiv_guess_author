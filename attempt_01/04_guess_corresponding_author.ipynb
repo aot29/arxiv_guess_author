{
 "cells": [
  {
   "cell_type": "markdown",
   "id": "44437728-9535-458e-94e5-99f40641bc73",
   "metadata": {},
   "source": [
    "# Find nearest paper\n",
    "* Load the article metadata and the topics assigned to each article\n",
    "* Write a function that computes the distance between 2 papers based on the topics"
   ]
  },
  {
   "cell_type": "code",
   "execution_count": 1,
   "id": "e7bc68ae-9340-437e-925f-1f218d5392cb",
   "metadata": {},
   "outputs": [],
   "source": [
    "import pandas as pd\n",
    "import pickle\n",
    "import os\n",
    "from sklearn.dummy import DummyClassifier\n",
    "import numpy as np\n",
    "import matplotlib.pyplot as plt\n",
    "%matplotlib inline"
   ]
  },
  {
   "cell_type": "code",
   "execution_count": 2,
   "id": "d898fa2c-4db5-4608-a2a0-e61d031b6caa",
   "metadata": {},
   "outputs": [],
   "source": [
    "DATA_PATH = '../data'\n",
    "MODELS_PATH = '../models'"
   ]
  },
  {
   "cell_type": "markdown",
   "id": "f5d44c0c-0dbd-4874-8b38-a11a8ba0c593",
   "metadata": {},
   "source": [
    "## Load the article metadata and the topics assigned to each article"
   ]
  },
  {
   "cell_type": "markdown",
   "id": "1146420d-0890-430a-9700-e08cd49ac108",
   "metadata": {},
   "source": [
    "Load the article abstracts and metadata for the train/validate/test datasets"
   ]
  },
  {
   "cell_type": "code",
   "execution_count": 3,
   "id": "070069ea-9d43-45a1-b672-bd91e1da61ea",
   "metadata": {},
   "outputs": [],
   "source": [
    "def load_df(name):\n",
    "    return pd.read_csv(os.path.join(DATA_PATH, name), index_col=0, converters={\"authors_parsed\": lambda x:[entry.strip('[]') for entry in  x.split(\"], \")]})\n",
    "\n",
    "train_df = load_df('arxiv_train.csv')\n",
    "validate_df = load_df('arxiv_validate.csv')\n",
    "test_df = load_df('arxiv_test.csv')"
   ]
  },
  {
   "cell_type": "markdown",
   "id": "8c4a3f73-42d1-4b3f-9ab7-dc007a44988f",
   "metadata": {},
   "source": [
    "Load the topics assigned to each article"
   ]
  },
  {
   "cell_type": "code",
   "execution_count": 4,
   "id": "51b3b4ce-c99a-44a0-9f82-b766fc0120b1",
   "metadata": {},
   "outputs": [],
   "source": [
    "topics_train_df = pd.read_csv(os.path.join(DATA_PATH, 'topics_train.csv'), index_col=0)\n",
    "topics_validate_df = pd.read_csv(os.path.join(DATA_PATH, 'topics_validate.csv'), index_col=0)\n",
    "topics_test_df = pd.read_csv(os.path.join(DATA_PATH, 'topics_test.csv'), index_col=0)"
   ]
  },
  {
   "cell_type": "markdown",
   "id": "e3ed8751-d624-4a15-b917-807bf4f6ee4f",
   "metadata": {},
   "source": [
    "The \"labels\" in this case are the corresponding authors"
   ]
  },
  {
   "cell_type": "code",
   "execution_count": 5,
   "id": "1b04d67c-9270-4b91-a1b3-316f627c3f91",
   "metadata": {},
   "outputs": [],
   "source": [
    "labels_train = train_df[\"submitter\"]\n",
    "labels_validate = validate_df[\"submitter\"]\n",
    "labels_test = test_df[\"submitter\"]"
   ]
  },
  {
   "cell_type": "code",
   "execution_count": 6,
   "id": "f5e40a49-a944-4fe5-b4f3-8b6fa1ac234e",
   "metadata": {},
   "outputs": [
    {
     "name": "stdout",
     "output_type": "stream",
     "text": [
      "The train dataset has 35000 articles by 27356 unique correspponding authors\n",
      "The validate dataset has 17500 articles by 15197 unique correspponding authors\n",
      "The test dataset has 17500 articles by 15165 unique correspponding authors\n"
     ]
    }
   ],
   "source": [
    "print(f\"The train dataset has {train_df.shape[0]} articles by {len(set(labels_train))} unique correspponding authors\")\n",
    "print(f\"The validate dataset has {validate_df.shape[0]} articles by {len(set(labels_validate))} unique correspponding authors\")\n",
    "print(f\"The test dataset has {test_df.shape[0]} articles by {len(set(labels_test))} unique correspponding authors\")"
   ]
  },
  {
   "cell_type": "markdown",
   "id": "3d344f63-1eb5-44cb-99be-6684e671ddf9",
   "metadata": {},
   "source": [
    "## Distance\n",
    "A function to compute the euclidan distance between 2 papers, based on the topics assigned by the topic model."
   ]
  },
  {
   "cell_type": "code",
   "execution_count": 7,
   "id": "b710ec1b-1397-4c60-97c2-10b88095fed3",
   "metadata": {},
   "outputs": [],
   "source": [
    "import numpy as np\n",
    "\n",
    "def topic_distance(topics1, topics2):\n",
    "    \"\"\"\n",
    "    topic1, topic2: numpy.ndarray, representing the probability that an article is about a topic. An article can have multiple topics.\n",
    "    Example:\n",
    "        0    0.000000\n",
    "        1    0.000000\n",
    "        2    0.000000\n",
    "        3    0.000000\n",
    "        4    0.000000\n",
    "        5    0.992668\n",
    "    topic1 and topic2 must be the same length.\n",
    "    Topics were assigned to articles in 03_assign_topics\n",
    "    \"\"\"\n",
    "    dist = np.linalg.norm(topics1 - topics2)  # euclidean distance, L2 norm is default\n",
    "    return dist"
   ]
  },
  {
   "cell_type": "markdown",
   "id": "b6e82143-cad6-43d0-81ec-2a6e265758f6",
   "metadata": {},
   "source": [
    "### Example 1\n",
    "Pick up a random article in the validate dataset, find the nearest article in the train dataset"
   ]
  },
  {
   "cell_type": "code",
   "execution_count": 8,
   "id": "6b044dec-975c-49ca-8bdf-3219851c237c",
   "metadata": {},
   "outputs": [
    {
     "name": "stdout",
     "output_type": "stream",
     "text": [
      "CPU times: user 1e+03 ns, sys: 1 μs, total: 2 μs\n",
      "Wall time: 5.96 μs\n",
      "Computing 35000 distances\n"
     ]
    }
   ],
   "source": [
    "%time\n",
    "\n",
    "# pick a random paper\n",
    "rnd_article = topics_validate_df.sample()\n",
    "# numpy array with topics probabilities for the article\n",
    "topics1 = np.array(rnd_article.values[0])\n",
    "\n",
    "print(f\"Computing {topics_train_df.shape[0]} distances\")\n",
    "sample_np = topics_train_df.to_numpy()\n",
    "distances = [topic_distance(topics1, topics2) for topics2 in sample_np]"
   ]
  },
  {
   "cell_type": "code",
   "execution_count": 9,
   "id": "424609f4-6859-48cc-bbc3-4b636f29a9d6",
   "metadata": {},
   "outputs": [
    {
     "name": "stdout",
     "output_type": "stream",
     "text": [
      "The original article \"Chern insulating state with double-$Q$ ordering wave vectors at the\n",
      "  Brillouin zone boundary\" authors are: Satoru Hayami\n",
      "The closest article \"Layer-dependent superconductivity in iron-based superconductors\" authors are: Ke Meng, Xu Zhang, Boqin Song, Baizhuo Li, Xiangming Kong, Sicheng\n",
      "  Huang, Xiaofan Yang, Xiaobo Jin, Yiyuan Wu, Jiaying Nie, Guanghan Cao, Shiyan\n",
      "  Li\n"
     ]
    }
   ],
   "source": [
    "original_article = validate_df.iloc[rnd_article.index[0]]\n",
    "print(f\"The original article \\\"{original_article.title}\\\" authors are: {original_article.authors}\")\n",
    "closest_article = train_df.iloc[distances.index(min(distances))]\n",
    "print(f\"The closest article \\\"{closest_article.title}\\\" authors are: {closest_article.authors}\")"
   ]
  },
  {
   "cell_type": "markdown",
   "id": "353317e1-888f-4f9b-afa2-812f60db5f36",
   "metadata": {},
   "source": [
    "### Example 2\n",
    "* Pick up a random article in the validate dataset (the \"original article\").\n",
    "* Find articles by the same authors in the train dataset\n",
    "* Calculate (A) the distances between the \"original article\" and the articles by the same authors\n",
    "* Calculate (B) the distances from the \"original article\" to all other articles\n",
    "* Compare A and B, expect A to be smaller."
   ]
  },
  {
   "cell_type": "code",
   "execution_count": 10,
   "id": "fc968769-6474-46ac-8956-15af5f561d56",
   "metadata": {},
   "outputs": [],
   "source": [
    "def pick_random_article(metadata_df, topics_df):\n",
    "    \"\"\"\n",
    "    Pick a random article from dataset (e.g. validate dataset)\n",
    "    Return its metadata (e.g. from validate_df) and its topics (e.g. from topics_validate_df)\n",
    "\n",
    "    metadata_df: pandas.DataFrame with article metadata, e.g. validate_df\n",
    "    topics_df: pandas.DataFrame of article topics, e.g. topics_validate_df\n",
    "    returns: \n",
    "        pandas.core.series.Series: article metadata\n",
    "        numpy.array: article topic probabilities\n",
    "    \"\"\"\n",
    "    # pick a random paper\n",
    "    rnd_article = topics_df.sample()\n",
    "    # numpy array with topics probabilities for the article\n",
    "    topics = np.array(rnd_article.values[0])\n",
    "    # get the metadata for the chosen article\n",
    "    original_article = metadata_df.iloc[rnd_article.index[0]]\n",
    "    return original_article, topics\n",
    "\n",
    "\n",
    "def find_articles_same_authors(original_article, metadata_df):\n",
    "    \"\"\"\n",
    "    Find articles by the same author(s) in metadata_df\n",
    "    original_article: pandas.core.series.Series of article metadata\n",
    "    metadata_df: pandas.DataFrame with article metadata, e.g. train_df\n",
    "    returns: list of id in metadata_df\n",
    "    \"\"\"\n",
    "    # list the authors of the chosen article\n",
    "    authors = original_article['authors_parsed']\n",
    "    # Find articles by at least one of the same authors in the train dataset \n",
    "    articles_found = []\n",
    "    for author in authors:\n",
    "        for i, row in metadata_df.iterrows():\n",
    "            if author in row['authors_parsed']:\n",
    "                articles_found.append(row['id'])\n",
    "    return articles_found\n",
    "\n",
    "def get_topics(metadata_df, topics_df, article_id):\n",
    "    \"\"\"\n",
    "    Get the topics corresponding to an article id ('id' column in metadata dataFrame)\n",
    "    metadata_df: pandas.DataFrame article metadata, e.g. train_df\n",
    "    topics_df: pandas.DataFrame of article topics, e.g. topics_train_df\n",
    "    returns: numpy.array: article topic probabilities\n",
    "    \"\"\"\n",
    "    i = list(metadata_df.id).index(article_id)\n",
    "    topics = topics_df.loc[i]\n",
    "    return np.array(topics)\n"
   ]
  },
  {
   "cell_type": "code",
   "execution_count": 11,
   "id": "9dbacf2b-c597-48df-8bac-e882d016541d",
   "metadata": {},
   "outputs": [],
   "source": [
    "def mean_distances(original_article, topics, metadata_df, topics_df):\n",
    "    \"\"\"\n",
    "    Measure the distance Euclidean distance in the topics space, between the \"original_article\" and\n",
    "    articles in in train dataset:\n",
    "    * articles where the at least one of the authors is the same\n",
    "    * randomly chosen articles (the number of articles is set by MAX_RND_ARTICLES)\n",
    "    original_article: pandas.core.series.Series of article metadata\n",
    "    topics: numpy.array of article topic probabilities\n",
    "    returns\n",
    "        mean distance same authors, mean distance rnd articles: float\n",
    "    \"\"\"\n",
    "    # Find articles by the same authors in the train dataset\n",
    "    articles_found = find_articles_same_authors(original_article, metadata_df)\n",
    "    if len(articles_found) == 0:\n",
    "        return None, None\n",
    "    else:\n",
    "        # Calculate (A) the distances between the \"original article\" and the articles by the same authors\n",
    "        distances_same_authors = []\n",
    "        for article_id in articles_found:\n",
    "            topics_same_authors = get_topics(metadata_df, topics_df, article_id)\n",
    "            distance = topic_distance(topics, topics_same_authors)\n",
    "            distances_same_authors.append(distance)\n",
    "        # Calculate (B) the distances from the \"original article\" to all other articles\n",
    "        distances_all = [topic_distance(topics, topics2) for topics2 in topics_df.to_numpy()]\n",
    "    return np.mean(distances_same_authors), np.mean(distances_all)"
   ]
  },
  {
   "cell_type": "markdown",
   "id": "26f8334a-0b1b-4aa3-9475-016bed74fb12",
   "metadata": {},
   "source": [
    "try it out using the validate dataset"
   ]
  },
  {
   "cell_type": "code",
   "execution_count": 12,
   "id": "dadf6066-8a11-4b6d-a092-13b5c4910f5a",
   "metadata": {},
   "outputs": [
    {
     "name": "stdout",
     "output_type": "stream",
     "text": [
      "CPU times: user 21.9 s, sys: 0 ns, total: 21.9 s\n",
      "Wall time: 21.9 s\n"
     ]
    }
   ],
   "source": [
    "%%time\n",
    "\n",
    "MAX_ARTICLES = 10\n",
    "# Compare A and B, expect A to be smaller.\n",
    "mean_distances_same_authors = []\n",
    "mean_distances_rnd_articles = []\n",
    "for _ in range(MAX_ARTICLES):\n",
    "    # Pick up a random article in the validate dataset (the \"original article\").\n",
    "    original_article, topics = pick_random_article(validate_df, topics_validate_df)\n",
    "    mean_same_authors, mean_rnd = mean_distances(original_article, topics, train_df, topics_train_df)\n",
    "    if (mean_same_authors and mean_rnd):\n",
    "        mean_distances_same_authors.append(mean_same_authors)\n",
    "        mean_distances_rnd_articles.append(mean_rnd)"
   ]
  },
  {
   "cell_type": "markdown",
   "id": "fa6c41a0-5630-4008-a651-9d628693ccb0",
   "metadata": {},
   "source": [
    "Using the test dataset"
   ]
  },
  {
   "cell_type": "code",
   "execution_count": 13,
   "id": "cbf273c0-7d6a-4b8d-8220-0dc288f8b6ee",
   "metadata": {},
   "outputs": [
    {
     "name": "stdout",
     "output_type": "stream",
     "text": [
      "CPU times: user 53min 28s, sys: 4.73 s, total: 53min 33s\n",
      "Wall time: 53min 36s\n"
     ]
    }
   ],
   "source": [
    "%%time\n",
    "\n",
    "MAX_ARTICLES = 1000\n",
    "# Compare A and B, expect A to be smaller.\n",
    "mean_distances_same_authors = []\n",
    "mean_distances_rnd_articles = []\n",
    "for _ in range(MAX_ARTICLES):\n",
    "    # Pick up a random article in the test dataset (the \"original article\").\n",
    "    original_article, topics = pick_random_article(test_df, topics_test_df)\n",
    "    mean_same_authors, mean_rnd = mean_distances(original_article, topics, train_df, topics_train_df)\n",
    "    if (mean_same_authors and mean_rnd):\n",
    "        mean_distances_same_authors.append(mean_same_authors)\n",
    "        mean_distances_rnd_articles.append(mean_rnd)"
   ]
  },
  {
   "cell_type": "code",
   "execution_count": 14,
   "id": "90a45e23-ab13-4a76-bd35-e44ea0395e5b",
   "metadata": {},
   "outputs": [
    {
     "data": {
      "image/png": "[encoded data removed]",
      "text/plain": [
       "<Figure size 640x480 with 1 Axes>"
      ]
     },
     "metadata": {},
     "output_type": "display_data"
    }
   ],
   "source": [
    "data = [mean_distances_same_authors, mean_distances_rnd_articles]\n",
    "fig, ax = plt.subplots()\n",
    "ax.boxplot(data, tick_labels=['Same authors', 'All articles'])\n",
    "ax.set_ylabel(\"Distance\")\n",
    "plt.title(f\"Mean topic distances between articles (n={MAX_ARTICLES})\")\n",
    "plt.show()"
   ]
  },
  {
   "cell_type": "code",
   "execution_count": 15,
   "id": "5bd8698c-42e3-48db-9d7c-f810f9a26e18",
   "metadata": {},
   "outputs": [
    {
     "name": "stdout",
     "output_type": "stream",
     "text": [
      "The topic model was trained on 35000 articles about Physics, submitted in the past 3 years.\n",
      "The test dataset has 17500 articles. Based on a random sample of 1000 articles:\n",
      "The mean distance between articles that share at least one author is 0.40.\n",
      "The mean distance between all articles is 0.86.\n",
      "The p-value is 0.00E+00.\n"
     ]
    }
   ],
   "source": [
    "from scipy import stats\n",
    "\n",
    "# Perform the t-test:\n",
    "t_stat, p_value = stats.ttest_ind(mean_distances_same_authors, mean_distances_rnd_articles)\n",
    "print(f\"The topic model was trained on {topics_train_df.shape[0]} articles about Physics, submitted in the past 3 years.\")\n",
    "print(f\"The test dataset has {topics_test_df.shape[0]} articles. Based on a random sample of {MAX_ARTICLES} articles:\")\n",
    "print(f\"The mean distance between articles that share at least one author is {np.mean(mean_distances_same_authors):.2f}.\")\n",
    "print(f\"The mean distance between all articles is {np.mean(mean_distances_rnd_articles):.2f}.\")\n",
    "print(f\"The p-value is {p_value:.2E}.\")\n"
   ]
  },
  {
   "cell_type": "code",
   "execution_count": null,
   "id": "4b877c21-3892-435e-8383-d267daf1580c",
   "metadata": {},
   "outputs": [],
   "source": []
  }
 ],
 "metadata": {
  "kernelspec": {
   "display_name": "Python 3 (ipykernel)",
   "language": "python",
   "name": "python3"
  },
  "language_info": {
   "codemirror_mode": {
    "name": "ipython",
    "version": 3
   },
   "file_extension": ".py",
   "mimetype": "text/x-python",
   "name": "python",
   "nbconvert_exporter": "python",
   "pygments_lexer": "ipython3",
   "version": "3.11.2"
  }
 },
 "nbformat": 4,
 "nbformat_minor": 5
}
