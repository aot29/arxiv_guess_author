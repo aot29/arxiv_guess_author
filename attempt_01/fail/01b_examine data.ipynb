{
 "cells": [
  {
   "cell_type": "markdown",
   "id": "3c63e733-bb14-4a55-b960-ce953e5efa70",
   "metadata": {},
   "source": [
    "# Examine data"
   ]
  },
  {
   "cell_type": "code",
   "execution_count": 1,
   "id": "6b9b324a-87da-41af-b04e-d34ee8313b0f",
   "metadata": {},
   "outputs": [],
   "source": [
    "import pandas as pd\n",
    "import pickle\n",
    "import os\n",
    "from sklearn.dummy import DummyClassifier"
   ]
  },
  {
   "cell_type": "code",
   "execution_count": 2,
   "id": "4d5a480f-e1cf-4aa1-8b20-bbca296d9596",
   "metadata": {},
   "outputs": [],
   "source": [
    "DATA_PATH = '../data'\n",
    "MODELS_PATH = '../models'"
   ]
  },
  {
   "cell_type": "markdown",
   "id": "d3b98bd7-ee37-41aa-98c7-f888e110b92e",
   "metadata": {},
   "source": [
    "## Load the article metadata\n",
    "Load the article abstracts and metadata for the train/validate/test datasets"
   ]
  },
  {
   "cell_type": "code",
   "execution_count": 69,
   "id": "f45f8da0-9520-4836-b8a0-e4abd288be50",
   "metadata": {},
   "outputs": [],
   "source": [
    "def load_df(name):\n",
    "    return pd.read_csv(os.path.join(DATA_PATH, name), index_col=0, converters={\"authors_parsed\": lambda x:[entry.strip('[]') for entry in  x.split(\"], \")]})\n",
    "\n",
    "train_df = load_df('arxiv_train.csv')\n",
    "validate_df = load_df('arxiv_validate.csv')\n",
    "test_df = load_df('arxiv_test.csv')"
   ]
  },
  {
   "cell_type": "code",
   "execution_count": 70,
   "id": "e6bd4d1f-d9fe-4a88-8c7f-d80f2a7db1ec",
   "metadata": {},
   "outputs": [
    {
     "name": "stdout",
     "output_type": "stream",
     "text": [
      "The dataset contains metadata for 70000 articles, written by 207521 authors.\n"
     ]
    }
   ],
   "source": [
    "def flatten(xss):\n",
    "    \"\"\"Flatten a list of lists\"\"\"\n",
    "    return [x for xs in xss for x in xs]\n",
    "\n",
    "def get_unique_authors(df):\n",
    "    \"\"\"Given a dataframe, return unique authors\"\"\"\n",
    "    authors = flatten(df['authors_parsed'])\n",
    "    return set(authors)\n",
    "\n",
    "def count_authors(df):\n",
    "    \"\"\"Given a dataframe, return count of unique authors\"\"\"\n",
    "    return len(get_unique_authors(df))\n",
    "\n",
    "total_article_count = train_df.shape[0] + validate_df.shape[0] + test_df.shape[0]\n",
    "total_author_count = count_authors(pd.concat([train_df, validate_df, test_df], axis=0))\n",
    "print(f\"The dataset contains metadata for {total_article_count} articles, written by {total_author_count} authors.\")"
   ]
  },
  {
   "cell_type": "markdown",
   "id": "3634f323-a5d0-4ad1-b0f0-6ecbb3f408dc",
   "metadata": {},
   "source": [
    "## Assumptions\n",
    "### 1. Authors can be identified by their name."
   ]
  },
  {
   "cell_type": "code",
   "execution_count": 71,
   "id": "b865476d-f22b-4751-9a54-63ac76e65fbd",
   "metadata": {},
   "outputs": [
    {
     "data": {
      "text/plain": [
       "submitter\n",
       "The ATLAS Collaboration        64\n",
       "The CMS Collaboration          30\n",
       "ALICE publications             16\n",
       "Xin Wang                       14\n",
       "Wen-Jie Liu                    14\n",
       "Pierre-Fran\\c{c}ois Loos Dr    13\n",
       "Noam Soker                     10\n",
       "Mouhssine Koussour             10\n",
       "Taichi Kato                    10\n",
       "Yongqiang Wang                  9\n",
       "Name: count, dtype: int64"
      ]
     },
     "execution_count": 71,
     "metadata": {},
     "output_type": "execute_result"
    }
   ],
   "source": [
    "# the 10 authors from the \"submitter\" column that have written the most\n",
    "train_df.submitter.value_counts()[:10]"
   ]
  },
  {
   "cell_type": "markdown",
   "id": "61ff290d-014e-4f96-b6de-fce05add862a",
   "metadata": {},
   "source": [
    "* Among the authors with most papers, the 4 most prolific are collaborations, that do not name individuals.\n",
    "* Examining article metadata, it appears that the remaining authors in the list a super prolific individuals, e.g. [Pierre-Francois Loos](https://scholar.google.com.tr/citations?user=siH_NhoAAAAJ&hl=en) (CNRS senior researcher)"
   ]
  },
  {
   "cell_type": "code",
   "execution_count": 72,
   "id": "6603506b-307f-40c2-b7d0-c9ef218afd94",
   "metadata": {},
   "outputs": [
    {
     "data": {
      "text/plain": [
       "authors\n",
       "ATLAS Collaboration                          60\n",
       "CMS Collaboration                            29\n",
       "ALICE Collaboration                          25\n",
       "Athul Pradeepkumar Girija                     8\n",
       "The Event Horizon Telescope Collaboration     7\n",
       "The STAR Collaboration                        7\n",
       "Shinichi Saito                                7\n",
       "Paul C Bressloff                              6\n",
       "Noam Soker (Technion, Israel)                 6\n",
       "Pierre Naz\\'e                                 6\n",
       "Name: count, dtype: int64"
      ]
     },
     "execution_count": 72,
     "metadata": {},
     "output_type": "execute_result"
    }
   ],
   "source": [
    "# the 10 authors from the \"authors\" column that have written the most\n",
    "train_df.authors.value_counts()[:10]"
   ]
  },
  {
   "cell_type": "code",
   "execution_count": 38,
   "id": "f9aff707-037a-43d9-955e-420cdbd7cf1c",
   "metadata": {},
   "outputs": [],
   "source": [
    "# one very prolific submitter:\n",
    "#pd.set_option('display.max_colwidth', None) \n",
    "#train_df[train_df.submitter == 'Pierre-Fran\\c{c}ois Loos Dr'][['authors_parsed', 'title', 'year']]"
   ]
  },
  {
   "cell_type": "markdown",
   "id": "c6a3d790-8035-46f8-b892-0b0155abdd59",
   "metadata": {},
   "source": [
    "### 2. Guessing the author of a paper is only possible if the author has already written at least one other paper\n",
    "Seems obvious, since their names have to be in the data. So looking at the validation dataset, how many authors are present in the training dataset?\n",
    "The datasets are large enough that looking at the data should give a decent approximation of how many authors could be guessed by an ideal model.  "
   ]
  },
  {
   "cell_type": "code",
   "execution_count": 131,
   "id": "5ace56dc-0be7-4fc1-91e0-9296298dbf8a",
   "metadata": {},
   "outputs": [
    {
     "name": "stdout",
     "output_type": "stream",
     "text": [
      "There are 81435 unique authors in the validate dataset.\n",
      "There are 132976 unique authors in the train dataset.\n",
      "40900 authors are present in both datasets.\n",
      "Authors present in both datasets wrote 14130 out of 17500 papers in the validate dataset, so 81% is approximately the best possible success rate for guessing the author of a paper in this dataset.\n"
     ]
    }
   ],
   "source": [
    "# get a list of unique authors in the validate dataset\n",
    "val_unique_authors = get_unique_authors(validate_df)\n",
    "print(f\"There are {len(val_unique_authors)} unique authors in the validate dataset.\")\n",
    "# get a list of unique authors in the train dataset\n",
    "train_unique_authors = get_unique_authors(train_df)\n",
    "print(f\"There are {len(train_unique_authors)} unique authors in the train dataset.\")\n",
    "# count authors that are in both datasets\n",
    "intersection = val_unique_authors & train_unique_authors\n",
    "intersection_perc = len(intersection) / len(val_unique_authors) * 100\n",
    "# count papers in the validation dataset written by these authors\n",
    "papers_intersection_count = 0\n",
    "for paper_authors in validate_df['authors_parsed']:\n",
    "    for author in intersection:\n",
    "        if author in paper_authors: \n",
    "            papers_intersection_count += 1\n",
    "            break\n",
    "papers_intersection_perc = papers_intersection_count / validate_df.shape[0] * 100\n",
    "print(f\"{len(intersection)} authors are present in both datasets.\")\n",
    "print(f\"Authors present in both datasets wrote {papers_intersection_count} out of {validate_df.shape[0]} papers in the validate dataset, \\\n",
    "so {papers_intersection_perc:.0f}% is approximately the best possible success rate for guessing the author of a paper in this dataset.\")"
   ]
  },
  {
   "cell_type": "code",
   "execution_count": null,
   "id": "cebc04b1-3039-4e57-a386-b3a188ce1ee4",
   "metadata": {},
   "outputs": [],
   "source": []
  }
 ],
 "metadata": {
  "kernelspec": {
   "display_name": "Python 3 (ipykernel)",
   "language": "python",
   "name": "python3"
  },
  "language_info": {
   "codemirror_mode": {
    "name": "ipython",
    "version": 3
   },
   "file_extension": ".py",
   "mimetype": "text/x-python",
   "name": "python",
   "nbconvert_exporter": "python",
   "pygments_lexer": "ipython3",
   "version": "3.11.2"
  }
 },
 "nbformat": 4,
 "nbformat_minor": 5
}
