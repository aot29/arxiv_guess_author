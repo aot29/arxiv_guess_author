{
 "cells": [
  {
   "cell_type": "markdown",
   "id": "0d59c039-2d3c-4dc7-821d-8ebab89e39fe",
   "metadata": {},
   "source": [
    "# Test: Using a topic model to guess authors of a paper submitted for blind peer review\n",
    "Goal: **Guess the authors of a paper submitted for blind peer review.**\n",
    "\n",
    "Assumption: **Articles written by the same authors are about similar topics.**\n",
    "\n",
    "Therefore: **Articles written by the same authors should be close together in topic space.**\n",
    "\n",
    "This is interesting because: **The probability of guessing the authors of an article submitted for blind peer review should be higher among authors of papers closer together in topic space.**\n",
    "\n",
    "### Workflow\n",
    "\n",
    "#### Data acquisition (Notebook 00_process_snapshot)\n",
    "ArXiv was queried for all artticles on Physics (the largest category on arXiv), submitted since beginning 2023 (assuming that researchers are active in the present). The dataset has 70.000 articles, written by approximately 200.000 authors.\n",
    "arXiv.org submitters. (2024). arXiv Dataset [Data set]. Kaggle. https://doi.org/10.34740/KAGGLE/DSV/7548853\n",
    "\n",
    "#### Data preparation (Notebook 01_prepare_data)\n",
    "The data was split in train (50%), validate (25%) and test (25%) datasets. The abstracts were processed as follows:\n",
    "* Apply pre-processing filters: strip_tags, strip_punctuation, strip_multiple_whitespaces, stric_numeric, remove_stopwords; strip_short\n",
    "* Apply lemmatization\n",
    "\n",
    "#### Fit topic model (Notebook 02_fit_topic_model)\n",
    "An LDA topic model was used to discover latent topics in the data. The model was fitted on 35.000 abstracts from the train dataset. The best number of topics was determined by minimizing the perplexity measure. The model and the perplexity measurement was implemented in Python using the gensim library.\n",
    "* [LDA implementation from gensim library](https://radimrehurek.com/gensim/models/ldamodel.html)\n",
    "* [Original LDA paper](https://www.jmlr.org/papers/volume3/blei03a/blei03a.pdf)\n",
    "\n",
    "#### Assign topics to articles (Notebook 03_assign_topics)\n",
    "Topics were assigned to the articles in the train, validate and test datasets. Each article is assigned a list of probabilities that the topic is relevant to the article. An article can have multiple topics. \n",
    "\n",
    "#### Measure distances (Notebook 04_measure_distances)\n",
    "The distance between two articles in topic space is measured by computing the Euclidean distance of their topics as assigned by the model. Testing the hypothesis that **Articles written by the same authors should be close together in topic space.** can be accomplished by \n",
    "* mesuring the distance between articles written by at least one common author\n",
    "* measuring the distance between articles and the center of the topic space (?) all other articles (?)\n",
    "* comparing the two distances\n",
    "\n",
    "Preliminary results: the distance between articles written by at least one common author is significantly shorter that the mean distance between articles. Therefore: assuming that articles written by the same authors should be about similar topics, the topic model is measuring something real.\n",
    "\n",
    "#### To do\n",
    "* Formalize all this\n",
    "* Improve the model capability by using the distance between articles as fit criterion\n",
    "* Compute the probability of guessing the correct author\n"
   ]
  },
  {
   "cell_type": "code",
   "execution_count": null,
   "id": "4a0ed28e-1ad7-4456-8d75-35316ec74def",
   "metadata": {},
   "outputs": [],
   "source": []
  }
 ],
 "metadata": {
  "kernelspec": {
   "display_name": "Python 3 (ipykernel)",
   "language": "python",
   "name": "python3"
  },
  "language_info": {
   "codemirror_mode": {
    "name": "ipython",
    "version": 3
   },
   "file_extension": ".py",
   "mimetype": "text/x-python",
   "name": "python",
   "nbconvert_exporter": "python",
   "pygments_lexer": "ipython3",
   "version": "3.11.2"
  }
 },
 "nbformat": 4,
 "nbformat_minor": 5
}
